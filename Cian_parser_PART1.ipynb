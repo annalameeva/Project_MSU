{
 "cells": [
  {
   "cell_type": "code",
   "execution_count": 1,
   "metadata": {},
   "outputs": [],
   "source": [
    "import requests\n",
    "from bs4 import BeautifulSoup\n",
    "from fake_useragent import UserAgent\n",
    "import random\n",
    "import time\n",
    "import re\n",
    "import pandas as pd"
   ]
  },
  {
   "cell_type": "code",
   "execution_count": null,
   "metadata": {},
   "outputs": [],
   "source": [
    "urls = ['https://volgograd.cian.ru/cat.php?deal_type=sale&engine_version=2&offer_type=flat&p={}&region=4704&room1=1',\n",
    "       'https://volgograd.cian.ru/cat.php?deal_type=sale&engine_version=2&offer_type=flat&p={}&region=4704&room2=1',\n",
    "       'https://volgograd.cian.ru/cat.php?deal_type=sale&engine_version=2&offer_type=flat&p={}&region=4704&room3=1]\n",
    "\n",
    "        # 'https://volgograd.cian.ru/cat.php?deal_type=sale&engine_version=2&offer_type=flat&p={}&region=4704&room4=1&room5=1&room6=1'"
   ]
  },
  {
   "cell_type": "code",
   "execution_count": null,
   "metadata": {},
   "outputs": [],
   "source": [
    "# Задерживаем выполнение кода\n",
    "def wait_timer():\n",
    "    secs = random.uniform(5,9)\n",
    "    print(f'Programm is waiting for {secs} secs')\n",
    "    time.sleep(secs)"
   ]
  },
  {
   "cell_type": "code",
   "execution_count": null,
   "metadata": {},
   "outputs": [],
   "source": [
    "# Собираем ссылки на квартиры\n",
    "def links_collecter(url):\n",
    "    ua = UserAgent()\n",
    "    header = {'User-Agent':str(ua.random)}\n",
    "    \n",
    "    clean_links = []\n",
    "    \n",
    "    wait_timer()\n",
    "    response = requests.get(url, headers = header)\n",
    "    if response.status_code != 200:\n",
    "        print(f'There are some problems. The status code is {response.status_code}')\n",
    "    else:\n",
    "        print(f'Everything is good. The status code is {response.status_code}')\n",
    "        response = BeautifulSoup(response.text, 'lxml')\n",
    "        \n",
    "        if response.title.text == 'Captcha - база объявлений ЦИАН':\n",
    "            print(f'We got Captcha!')\n",
    "            \n",
    "        else:\n",
    "            links = response.findAll('a', {'class':'_93444fe79c--link--39cNw'}) \n",
    "    \n",
    "            for i in range(len(links)):\n",
    "                clean_links.append(links[i]['href'])\n",
    "            print(f'Another {len(clean_links)} links are ready')\n",
    "    return clean_links"
   ]
  },
  {
   "cell_type": "code",
   "execution_count": null,
   "metadata": {},
   "outputs": [],
   "source": [
    "# Все квартиры сразу: и вторичка, и новостройки. 1-2-3-4-5-6 комнат. Нет студий и нет свободных планировок\n",
    "flats = [] # иначе сотру половину списка\n",
    "all_flats = {} # информация о квартирах"
   ]
  },
  {
   "cell_type": "code",
   "execution_count": null,
   "metadata": {},
   "outputs": [],
   "source": [
    "for i in range(1, 55):      # У нас 54 страницы на циане\n",
    "    for url in urls:\n",
    "        url = url.format(i)\n",
    "        flats.extend(links_collecter(url))\n",
    "        print(f'Page {i} was processed')"
   ]
  },
  {
   "cell_type": "code",
   "execution_count": null,
   "metadata": {},
   "outputs": [],
   "source": [
    "# Далее необходимо собрать данные с каждой ссылки из flats\n",
    "def information_taker(link):\n",
    "    ua = UserAgent()\n",
    "    header = {'User-Agent':str(ua.random)}\n",
    "    \n",
    "    wait_timer()\n",
    "    response = requests.get(link, headers = header)\n",
    "    \n",
    "    if response.status_code != 200:\n",
    "        print(f'There are some problems. The status code is {response.status_code}')\n",
    "    else:\n",
    "        print(f'Everything is good. The status code is {response.status_code}')\n",
    "        response = BeautifulSoup(response.text, 'lxml')\n",
    "        \n",
    "        if response.title.text == 'Captcha - база объявлений ЦИАН':\n",
    "            print(f'We got Captcha!')\n",
    "            \n",
    "        else:\n",
    "            flat = {}\n",
    "            flat['Ссылка'] = link   \n",
    "            \n",
    "            # Основная информация - площади, этаж\n",
    "            inf_main_name = response.findAll('div', {'class':'a10a3f92e9--info-title--2bXM9'})\n",
    "            inf_main = response.findAll('div', {'class':'a10a3f92e9--info-value--18c8R'})\n",
    "            \n",
    "            for i in range(0,len(inf_main)):\n",
    "                flat[inf_main_name[i].text] = re.findall(r'\\d+', inf_main[i].text)[0]\n",
    "            \n",
    "            # \n",
    "            inf_gen_name = response.findAll('span', {'class':'a10a3f92e9--name--3bt8k'})\n",
    "            inf_gen = response.findAll('span', {'class':'a10a3f92e9--value--3Ftu5'})\n",
    "\n",
    "            for i in range(0,len(inf_gen)):\n",
    "                flat[inf_gen_n[i].text] = inf_gen[i].text\n",
    "\n",
    "            inf_price = response.find('span', {'itemprop':'price'})\n",
    "            flat['Цена'] =''.join(re.findall(r'\\d+', inf_price.text))\n",
    "\n",
    "            inf_room = response.find('h1', {'class':'a10a3f92e9--title--2Widg'})\n",
    "            flat['Комнат'] = inf_room.text[0:7]\n",
    "\n",
    "            inf_area = flat_page.findAll('a', {'class':'a10a3f92e9--link--1t8n1 a10a3f92e9--address-item--1clHr'})\n",
    "            flat['Район'] = re.findall(r\"р-н +\\w+\", str(inf_area))[0]\n",
    "    \n",
    "    return flat"
   ]
  },
  {
   "cell_type": "code",
   "execution_count": null,
   "metadata": {},
   "outputs": [],
   "source": [
    "flats = set(flats) # Оставляем только уникальные ссылки на квартиры"
   ]
  },
  {
   "cell_type": "code",
   "execution_count": null,
   "metadata": {},
   "outputs": [],
   "source": [
    "N = 0 # Номер квартиры\n",
    "for link in flats:\n",
    "    N = N + 1\n",
    "    flat = information_taker(link)\n",
    "    all_flats[N] = flat\n",
    "    print('Flat number {} is done'.format(N))"
   ]
  },
  {
   "cell_type": "code",
   "execution_count": null,
   "metadata": {},
   "outputs": [],
   "source": [
    "# Сохраняем собранные данные\n",
    "df = pd.DataFrame(all_flats).T\n",
    "df.to_csv('Cian.csv', encoding=\"utf-8\")"
   ]
  }
 ],
 "metadata": {
  "kernelspec": {
   "display_name": "Python 3",
   "language": "python",
   "name": "python3"
  },
  "language_info": {
   "codemirror_mode": {
    "name": "ipython",
    "version": 3
   },
   "file_extension": ".py",
   "mimetype": "text/x-python",
   "name": "python",
   "nbconvert_exporter": "python",
   "pygments_lexer": "ipython3",
   "version": "3.7.4"
  }
 },
 "nbformat": 4,
 "nbformat_minor": 4
}
