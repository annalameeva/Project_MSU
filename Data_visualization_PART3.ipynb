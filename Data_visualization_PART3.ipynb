{
 "cells": [
  {
   "cell_type": "code",
   "execution_count": 1,
   "metadata": {},
   "outputs": [],
   "source": [
    "import pandas as pd\n",
    "import numpy as np\n",
    "import seaborn as sns\n",
    "import matplotlib.pyplot as plt\n",
    "%matplotlib inline\n",
    "sns.set_palette('pastel')"
   ]
  },
  {
   "cell_type": "code",
   "execution_count": 2,
   "metadata": {},
   "outputs": [],
   "source": [
    "data = pd.read_csv('data_graphs.csv', index_col = 0)"
   ]
  },
  {
   "cell_type": "code",
   "execution_count": 3,
   "metadata": {},
   "outputs": [
    {
     "data": {
      "text/html": [
       "<div>\n",
       "<style scoped>\n",
       "    .dataframe tbody tr th:only-of-type {\n",
       "        vertical-align: middle;\n",
       "    }\n",
       "\n",
       "    .dataframe tbody tr th {\n",
       "        vertical-align: top;\n",
       "    }\n",
       "\n",
       "    .dataframe thead th {\n",
       "        text-align: right;\n",
       "    }\n",
       "</style>\n",
       "<table border=\"1\" class=\"dataframe\">\n",
       "  <thead>\n",
       "    <tr style=\"text-align: right;\">\n",
       "      <th></th>\n",
       "      <th>Общая</th>\n",
       "      <th>Жилая</th>\n",
       "      <th>Этаж</th>\n",
       "      <th>Тип жилья</th>\n",
       "      <th>Высота потолков</th>\n",
       "      <th>Санузел</th>\n",
       "      <th>Балкон/лоджия</th>\n",
       "      <th>Цена</th>\n",
       "      <th>Комнат</th>\n",
       "      <th>Район</th>\n",
       "      <th>Кухня</th>\n",
       "    </tr>\n",
       "  </thead>\n",
       "  <tbody>\n",
       "    <tr>\n",
       "      <th>2</th>\n",
       "      <td>27</td>\n",
       "      <td>13.0</td>\n",
       "      <td>6</td>\n",
       "      <td>Вторичка</td>\n",
       "      <td>2.60</td>\n",
       "      <td>совмещенный</td>\n",
       "      <td>1</td>\n",
       "      <td>1595000</td>\n",
       "      <td>1</td>\n",
       "      <td>Тракторозаводский</td>\n",
       "      <td>6.0</td>\n",
       "    </tr>\n",
       "    <tr>\n",
       "      <th>3</th>\n",
       "      <td>32</td>\n",
       "      <td>18.0</td>\n",
       "      <td>3</td>\n",
       "      <td>Вторичка</td>\n",
       "      <td>2.55</td>\n",
       "      <td>совмещенный</td>\n",
       "      <td>1</td>\n",
       "      <td>1600000</td>\n",
       "      <td>1</td>\n",
       "      <td>Советский</td>\n",
       "      <td>6.0</td>\n",
       "    </tr>\n",
       "    <tr>\n",
       "      <th>5</th>\n",
       "      <td>32</td>\n",
       "      <td>18.0</td>\n",
       "      <td>2</td>\n",
       "      <td>Вторичка</td>\n",
       "      <td>2.55</td>\n",
       "      <td>совмещенный</td>\n",
       "      <td>1</td>\n",
       "      <td>1660000</td>\n",
       "      <td>1</td>\n",
       "      <td>Краснооктябрьский</td>\n",
       "      <td>6.0</td>\n",
       "    </tr>\n",
       "    <tr>\n",
       "      <th>6</th>\n",
       "      <td>29</td>\n",
       "      <td>18.0</td>\n",
       "      <td>2</td>\n",
       "      <td>Вторичка</td>\n",
       "      <td>2.60</td>\n",
       "      <td>совмещенный</td>\n",
       "      <td>1</td>\n",
       "      <td>1440000</td>\n",
       "      <td>1</td>\n",
       "      <td>Дзержинский</td>\n",
       "      <td>6.0</td>\n",
       "    </tr>\n",
       "    <tr>\n",
       "      <th>7</th>\n",
       "      <td>62</td>\n",
       "      <td>19.0</td>\n",
       "      <td>12</td>\n",
       "      <td>Новостройка</td>\n",
       "      <td>2.60</td>\n",
       "      <td>совмещенный</td>\n",
       "      <td>1</td>\n",
       "      <td>2529400</td>\n",
       "      <td>1</td>\n",
       "      <td>Краснооктябрьский</td>\n",
       "      <td>12.0</td>\n",
       "    </tr>\n",
       "  </tbody>\n",
       "</table>\n",
       "</div>"
      ],
      "text/plain": [
       "   Общая  Жилая  Этаж    Тип жилья  Высота потолков      Санузел  \\\n",
       "2     27   13.0     6     Вторичка             2.60  совмещенный   \n",
       "3     32   18.0     3     Вторичка             2.55  совмещенный   \n",
       "5     32   18.0     2     Вторичка             2.55  совмещенный   \n",
       "6     29   18.0     2     Вторичка             2.60  совмещенный   \n",
       "7     62   19.0    12  Новостройка             2.60  совмещенный   \n",
       "\n",
       "   Балкон/лоджия     Цена  Комнат              Район  Кухня  \n",
       "2              1  1595000       1  Тракторозаводский    6.0  \n",
       "3              1  1600000       1          Советский    6.0  \n",
       "5              1  1660000       1  Краснооктябрьский    6.0  \n",
       "6              1  1440000       1        Дзержинский    6.0  \n",
       "7              1  2529400       1  Краснооктябрьский   12.0  "
      ]
     },
     "execution_count": 3,
     "metadata": {},
     "output_type": "execute_result"
    }
   ],
   "source": [
    "data.head()"
   ]
  },
  {
   "cell_type": "code",
   "execution_count": 4,
   "metadata": {},
   "outputs": [
    {
     "data": {
      "text/plain": [
       "array([1, 0, 2, 3])"
      ]
     },
     "execution_count": 4,
     "metadata": {},
     "output_type": "execute_result"
    }
   ],
   "source": [
    "data[\"Балкон/лоджия\"].unique()"
   ]
  },
  {
   "cell_type": "code",
   "execution_count": 5,
   "metadata": {},
   "outputs": [
    {
     "data": {
      "text/plain": [
       "array(['совмещенный', 'раздельный'], dtype=object)"
      ]
     },
     "execution_count": 5,
     "metadata": {},
     "output_type": "execute_result"
    }
   ],
   "source": [
    "data[\"Санузел\"].unique()"
   ]
  },
  {
   "cell_type": "code",
   "execution_count": 6,
   "metadata": {},
   "outputs": [
    {
     "data": {
      "text/plain": [
       "array(['Вторичка', 'Новостройка', 'Вторичка Апартаменты'], dtype=object)"
      ]
     },
     "execution_count": 6,
     "metadata": {},
     "output_type": "execute_result"
    }
   ],
   "source": [
    "data[\"Тип жилья\"].unique()"
   ]
  },
  {
   "cell_type": "code",
   "execution_count": 7,
   "metadata": {},
   "outputs": [
    {
     "data": {
      "text/plain": [
       "array(['Тракторозаводский', 'Советский', 'Краснооктябрьский',\n",
       "       'Дзержинский', 'Красноармейский', 'Ворошиловский', 'Кировский',\n",
       "       'Центральный'], dtype=object)"
      ]
     },
     "execution_count": 7,
     "metadata": {},
     "output_type": "execute_result"
    }
   ],
   "source": [
    "data[\"Район\"].unique()"
   ]
  },
  {
   "cell_type": "code",
   "execution_count": 8,
   "metadata": {},
   "outputs": [
    {
     "data": {
      "text/plain": [
       "array([1, 3, 2])"
      ]
     },
     "execution_count": 8,
     "metadata": {},
     "output_type": "execute_result"
    }
   ],
   "source": [
    "data[\"Комнат\"].unique()"
   ]
  },
  {
   "cell_type": "code",
   "execution_count": 9,
   "metadata": {},
   "outputs": [],
   "source": [
    "# не важно 2 или 3 балкона, важно, что он есть\n",
    "data.loc[data['Балкон/лоджия'] == 2, 'Балкон/лоджия'] = 1\n",
    "data.loc[data['Балкон/лоджия'] == 3, 'Балкон/лоджия'] = 1"
   ]
  },
  {
   "cell_type": "code",
   "execution_count": 10,
   "metadata": {},
   "outputs": [
    {
     "data": {
      "text/plain": [
       "array([1, 0])"
      ]
     },
     "execution_count": 10,
     "metadata": {},
     "output_type": "execute_result"
    }
   ],
   "source": [
    "data[\"Балкон/лоджия\"].unique()"
   ]
  },
  {
   "cell_type": "code",
   "execution_count": 11,
   "metadata": {},
   "outputs": [],
   "source": [
    "#'Вторичка Апартаменты' - выкидываем\n",
    "data = data.loc[data['Тип жилья'] != 'Вторичка Апартаменты']"
   ]
  },
  {
   "cell_type": "code",
   "execution_count": 12,
   "metadata": {},
   "outputs": [
    {
     "data": {
      "text/plain": [
       "array(['Вторичка', 'Новостройка'], dtype=object)"
      ]
     },
     "execution_count": 12,
     "metadata": {},
     "output_type": "execute_result"
    }
   ],
   "source": [
    "data[\"Тип жилья\"].unique()"
   ]
  },
  {
   "cell_type": "code",
   "execution_count": 13,
   "metadata": {},
   "outputs": [
    {
     "name": "stdout",
     "output_type": "stream",
     "text": [
      "<class 'pandas.core.frame.DataFrame'>\n",
      "Int64Index: 3576 entries, 2 to 1537\n",
      "Data columns (total 11 columns):\n",
      " #   Column           Non-Null Count  Dtype  \n",
      "---  ------           --------------  -----  \n",
      " 0   Общая            3576 non-null   int64  \n",
      " 1   Жилая            3576 non-null   float64\n",
      " 2   Этаж             3576 non-null   int64  \n",
      " 3   Тип жилья        3576 non-null   object \n",
      " 4   Высота потолков  3576 non-null   float64\n",
      " 5   Санузел          3576 non-null   object \n",
      " 6   Балкон/лоджия    3576 non-null   int64  \n",
      " 7   Цена             3576 non-null   int64  \n",
      " 8   Комнат           3576 non-null   int64  \n",
      " 9   Район            3576 non-null   object \n",
      " 10  Кухня            3576 non-null   float64\n",
      "dtypes: float64(3), int64(5), object(3)\n",
      "memory usage: 335.2+ KB\n"
     ]
    }
   ],
   "source": [
    "data.info()"
   ]
  },
  {
   "cell_type": "code",
   "execution_count": 14,
   "metadata": {},
   "outputs": [],
   "source": [
    "data['id'] = range(1, 3577) # добавим уникальные id"
   ]
  },
  {
   "cell_type": "code",
   "execution_count": 15,
   "metadata": {},
   "outputs": [
    {
     "data": {
      "text/html": [
       "<div>\n",
       "<style scoped>\n",
       "    .dataframe tbody tr th:only-of-type {\n",
       "        vertical-align: middle;\n",
       "    }\n",
       "\n",
       "    .dataframe tbody tr th {\n",
       "        vertical-align: top;\n",
       "    }\n",
       "\n",
       "    .dataframe thead th {\n",
       "        text-align: right;\n",
       "    }\n",
       "</style>\n",
       "<table border=\"1\" class=\"dataframe\">\n",
       "  <thead>\n",
       "    <tr style=\"text-align: right;\">\n",
       "      <th></th>\n",
       "      <th>Общая</th>\n",
       "      <th>Жилая</th>\n",
       "      <th>Этаж</th>\n",
       "      <th>Тип жилья</th>\n",
       "      <th>Высота потолков</th>\n",
       "      <th>Санузел</th>\n",
       "      <th>Балкон/лоджия</th>\n",
       "      <th>Цена</th>\n",
       "      <th>Комнат</th>\n",
       "      <th>Район</th>\n",
       "      <th>Кухня</th>\n",
       "      <th>id</th>\n",
       "    </tr>\n",
       "  </thead>\n",
       "  <tbody>\n",
       "    <tr>\n",
       "      <th>2</th>\n",
       "      <td>27</td>\n",
       "      <td>13.0</td>\n",
       "      <td>6</td>\n",
       "      <td>Вторичка</td>\n",
       "      <td>2.60</td>\n",
       "      <td>совмещенный</td>\n",
       "      <td>1</td>\n",
       "      <td>1595000</td>\n",
       "      <td>1</td>\n",
       "      <td>Тракторозаводский</td>\n",
       "      <td>6.0</td>\n",
       "      <td>1</td>\n",
       "    </tr>\n",
       "    <tr>\n",
       "      <th>3</th>\n",
       "      <td>32</td>\n",
       "      <td>18.0</td>\n",
       "      <td>3</td>\n",
       "      <td>Вторичка</td>\n",
       "      <td>2.55</td>\n",
       "      <td>совмещенный</td>\n",
       "      <td>1</td>\n",
       "      <td>1600000</td>\n",
       "      <td>1</td>\n",
       "      <td>Советский</td>\n",
       "      <td>6.0</td>\n",
       "      <td>2</td>\n",
       "    </tr>\n",
       "    <tr>\n",
       "      <th>5</th>\n",
       "      <td>32</td>\n",
       "      <td>18.0</td>\n",
       "      <td>2</td>\n",
       "      <td>Вторичка</td>\n",
       "      <td>2.55</td>\n",
       "      <td>совмещенный</td>\n",
       "      <td>1</td>\n",
       "      <td>1660000</td>\n",
       "      <td>1</td>\n",
       "      <td>Краснооктябрьский</td>\n",
       "      <td>6.0</td>\n",
       "      <td>3</td>\n",
       "    </tr>\n",
       "    <tr>\n",
       "      <th>6</th>\n",
       "      <td>29</td>\n",
       "      <td>18.0</td>\n",
       "      <td>2</td>\n",
       "      <td>Вторичка</td>\n",
       "      <td>2.60</td>\n",
       "      <td>совмещенный</td>\n",
       "      <td>1</td>\n",
       "      <td>1440000</td>\n",
       "      <td>1</td>\n",
       "      <td>Дзержинский</td>\n",
       "      <td>6.0</td>\n",
       "      <td>4</td>\n",
       "    </tr>\n",
       "    <tr>\n",
       "      <th>7</th>\n",
       "      <td>62</td>\n",
       "      <td>19.0</td>\n",
       "      <td>12</td>\n",
       "      <td>Новостройка</td>\n",
       "      <td>2.60</td>\n",
       "      <td>совмещенный</td>\n",
       "      <td>1</td>\n",
       "      <td>2529400</td>\n",
       "      <td>1</td>\n",
       "      <td>Краснооктябрьский</td>\n",
       "      <td>12.0</td>\n",
       "      <td>5</td>\n",
       "    </tr>\n",
       "    <tr>\n",
       "      <th>...</th>\n",
       "      <td>...</td>\n",
       "      <td>...</td>\n",
       "      <td>...</td>\n",
       "      <td>...</td>\n",
       "      <td>...</td>\n",
       "      <td>...</td>\n",
       "      <td>...</td>\n",
       "      <td>...</td>\n",
       "      <td>...</td>\n",
       "      <td>...</td>\n",
       "      <td>...</td>\n",
       "      <td>...</td>\n",
       "    </tr>\n",
       "    <tr>\n",
       "      <th>1526</th>\n",
       "      <td>49</td>\n",
       "      <td>31.0</td>\n",
       "      <td>5</td>\n",
       "      <td>Вторичка</td>\n",
       "      <td>2.50</td>\n",
       "      <td>совмещенный</td>\n",
       "      <td>1</td>\n",
       "      <td>2500000</td>\n",
       "      <td>2</td>\n",
       "      <td>Краснооктябрьский</td>\n",
       "      <td>6.0</td>\n",
       "      <td>3572</td>\n",
       "    </tr>\n",
       "    <tr>\n",
       "      <th>1527</th>\n",
       "      <td>44</td>\n",
       "      <td>27.0</td>\n",
       "      <td>2</td>\n",
       "      <td>Вторичка</td>\n",
       "      <td>2.60</td>\n",
       "      <td>раздельный</td>\n",
       "      <td>0</td>\n",
       "      <td>2500000</td>\n",
       "      <td>2</td>\n",
       "      <td>Дзержинский</td>\n",
       "      <td>6.0</td>\n",
       "      <td>3573</td>\n",
       "    </tr>\n",
       "    <tr>\n",
       "      <th>1528</th>\n",
       "      <td>48</td>\n",
       "      <td>27.0</td>\n",
       "      <td>4</td>\n",
       "      <td>Вторичка</td>\n",
       "      <td>2.60</td>\n",
       "      <td>раздельный</td>\n",
       "      <td>1</td>\n",
       "      <td>2500000</td>\n",
       "      <td>2</td>\n",
       "      <td>Дзержинский</td>\n",
       "      <td>9.0</td>\n",
       "      <td>3574</td>\n",
       "    </tr>\n",
       "    <tr>\n",
       "      <th>1532</th>\n",
       "      <td>49</td>\n",
       "      <td>33.0</td>\n",
       "      <td>1</td>\n",
       "      <td>Вторичка</td>\n",
       "      <td>2.55</td>\n",
       "      <td>совмещенный</td>\n",
       "      <td>1</td>\n",
       "      <td>2400000</td>\n",
       "      <td>2</td>\n",
       "      <td>Советский</td>\n",
       "      <td>8.0</td>\n",
       "      <td>3575</td>\n",
       "    </tr>\n",
       "    <tr>\n",
       "      <th>1537</th>\n",
       "      <td>42</td>\n",
       "      <td>27.0</td>\n",
       "      <td>2</td>\n",
       "      <td>Вторичка</td>\n",
       "      <td>2.60</td>\n",
       "      <td>совмещенный</td>\n",
       "      <td>0</td>\n",
       "      <td>2200000</td>\n",
       "      <td>2</td>\n",
       "      <td>Краснооктябрьский</td>\n",
       "      <td>6.0</td>\n",
       "      <td>3576</td>\n",
       "    </tr>\n",
       "  </tbody>\n",
       "</table>\n",
       "<p>3576 rows × 12 columns</p>\n",
       "</div>"
      ],
      "text/plain": [
       "      Общая  Жилая  Этаж    Тип жилья  Высота потолков      Санузел  \\\n",
       "2        27   13.0     6     Вторичка             2.60  совмещенный   \n",
       "3        32   18.0     3     Вторичка             2.55  совмещенный   \n",
       "5        32   18.0     2     Вторичка             2.55  совмещенный   \n",
       "6        29   18.0     2     Вторичка             2.60  совмещенный   \n",
       "7        62   19.0    12  Новостройка             2.60  совмещенный   \n",
       "...     ...    ...   ...          ...              ...          ...   \n",
       "1526     49   31.0     5     Вторичка             2.50  совмещенный   \n",
       "1527     44   27.0     2     Вторичка             2.60   раздельный   \n",
       "1528     48   27.0     4     Вторичка             2.60   раздельный   \n",
       "1532     49   33.0     1     Вторичка             2.55  совмещенный   \n",
       "1537     42   27.0     2     Вторичка             2.60  совмещенный   \n",
       "\n",
       "      Балкон/лоджия     Цена  Комнат              Район  Кухня    id  \n",
       "2                 1  1595000       1  Тракторозаводский    6.0     1  \n",
       "3                 1  1600000       1          Советский    6.0     2  \n",
       "5                 1  1660000       1  Краснооктябрьский    6.0     3  \n",
       "6                 1  1440000       1        Дзержинский    6.0     4  \n",
       "7                 1  2529400       1  Краснооктябрьский   12.0     5  \n",
       "...             ...      ...     ...                ...    ...   ...  \n",
       "1526              1  2500000       2  Краснооктябрьский    6.0  3572  \n",
       "1527              0  2500000       2        Дзержинский    6.0  3573  \n",
       "1528              1  2500000       2        Дзержинский    9.0  3574  \n",
       "1532              1  2400000       2          Советский    8.0  3575  \n",
       "1537              0  2200000       2  Краснооктябрьский    6.0  3576  \n",
       "\n",
       "[3576 rows x 12 columns]"
      ]
     },
     "execution_count": 15,
     "metadata": {},
     "output_type": "execute_result"
    }
   ],
   "source": [
    "data"
   ]
  },
  {
   "cell_type": "code",
   "execution_count": 16,
   "metadata": {},
   "outputs": [
    {
     "data": {
      "image/png": "[encoded data removed]",
      "text/plain": [
       "<Figure size 432x288 with 1 Axes>"
      ]
     },
     "metadata": {
      "needs_background": "light"
     },
     "output_type": "display_data"
    }
   ],
   "source": [
    "plt.title(\"Box plot для цены по комнатам\")\n",
    "_ = sns.boxplot(data = data, x = 'Комнат', y = 'Цена')"
   ]
  },
  {
   "cell_type": "code",
   "execution_count": 17,
   "metadata": {},
   "outputs": [
    {
     "data": {
      "image/png": "[encoded data removed]",
      "text/plain": [
       "<Figure size 432x288 with 1 Axes>"
      ]
     },
     "metadata": {
      "needs_background": "light"
     },
     "output_type": "display_data"
    }
   ],
   "source": [
    "plt.title(\"Box plot для цены по типу дома\")\n",
    "_ = sns.boxplot(data = data, x = 'Тип жилья', y = 'Цена')"
   ]
  },
  {
   "cell_type": "code",
   "execution_count": 18,
   "metadata": {},
   "outputs": [
    {
     "data": {
      "image/png": "[encoded data removed]",
      "text/plain": [
       "<Figure size 432x288 with 1 Axes>"
      ]
     },
     "metadata": {
      "needs_background": "light"
     },
     "output_type": "display_data"
    }
   ],
   "source": [
    "plt.title(\"Box plot для цены по типу санузла\")\n",
    "_ = sns.boxplot(data = data, x = 'Санузел', y = 'Цена')"
   ]
  },
  {
   "cell_type": "code",
   "execution_count": 19,
   "metadata": {},
   "outputs": [
    {
     "data": {
      "image/png": "[encoded data removed]",
      "text/plain": [
       "<Figure size 360x360 with 1 Axes>"
      ]
     },
     "metadata": {
      "needs_background": "light"
     },
     "output_type": "display_data"
    }
   ],
   "source": [
    "sns.catplot(x='Район', y='Цена', data=data, kind='bar')\n",
    "_ = plt.xticks(rotation=90)"
   ]
  },
  {
   "cell_type": "code",
   "execution_count": 20,
   "metadata": {},
   "outputs": [
    {
     "data": {
      "image/png": "[encoded data removed]",
      "text/plain": [
       "<Figure size 360x360 with 1 Axes>"
      ]
     },
     "metadata": {
      "needs_background": "light"
     },
     "output_type": "display_data"
    }
   ],
   "source": [
    "sns.catplot(x='Район', y='Общая', data=data, kind='bar')\n",
    "_ = plt.xticks(rotation=90)"
   ]
  },
  {
   "cell_type": "code",
   "execution_count": 21,
   "metadata": {},
   "outputs": [
    {
     "data": {
      "image/png": "[encoded data removed]",
      "text/plain": [
       "<Figure size 360x360 with 1 Axes>"
      ]
     },
     "metadata": {
      "needs_background": "light"
     },
     "output_type": "display_data"
    }
   ],
   "source": [
    "_ = sns.catplot(x='Тип жилья', y='Цена', data=data, kind='bar')"
   ]
  },
  {
   "cell_type": "code",
   "execution_count": 22,
   "metadata": {},
   "outputs": [
    {
     "data": {
      "image/png": "[encoded data removed]",
      "text/plain": [
       "<Figure size 360x360 with 1 Axes>"
      ]
     },
     "metadata": {
      "needs_background": "light"
     },
     "output_type": "display_data"
    }
   ],
   "source": [
    "_ = sns.catplot(x='Комнат', y='Цена', data=data, kind='bar')"
   ]
  },
  {
   "cell_type": "code",
   "execution_count": 23,
   "metadata": {},
   "outputs": [
    {
     "data": {
      "image/png": "[encoded data removed]",
      "text/plain": [
       "<Figure size 432x288 with 1 Axes>"
      ]
     },
     "metadata": {
      "needs_background": "light"
     },
     "output_type": "display_data"
    }
   ],
   "source": [
    "_ = sns.violinplot(x='Цена', y = 'Тип жилья', data = data)"
   ]
  },
  {
   "cell_type": "code",
   "execution_count": 24,
   "metadata": {},
   "outputs": [
    {
     "data": {
      "image/png": "[encoded data removed]",
      "text/plain": [
       "<Figure size 432x288 with 1 Axes>"
      ]
     },
     "metadata": {
      "needs_background": "light"
     },
     "output_type": "display_data"
    }
   ],
   "source": [
    "_ = sns.violinplot(x='Цена', y = 'Тип жилья', data = data, hue='Балкон/лоджия')"
   ]
  },
  {
   "cell_type": "code",
   "execution_count": 25,
   "metadata": {},
   "outputs": [],
   "source": [
    "data.loc[data['Комнат'] == 1, 'Комнат'] = 'однакомнатные'\n",
    "data.loc[data['Комнат'] == 2, 'Комнат'] = 'двухкомнатные'\n",
    "data.loc[data['Комнат'] == 3, 'Комнат'] = 'трехкомнатные'"
   ]
  },
  {
   "cell_type": "code",
   "execution_count": 26,
   "metadata": {},
   "outputs": [
    {
     "data": {
      "text/html": [
       "<div>\n",
       "<style scoped>\n",
       "    .dataframe tbody tr th:only-of-type {\n",
       "        vertical-align: middle;\n",
       "    }\n",
       "\n",
       "    .dataframe tbody tr th {\n",
       "        vertical-align: top;\n",
       "    }\n",
       "\n",
       "    .dataframe thead th {\n",
       "        text-align: right;\n",
       "    }\n",
       "</style>\n",
       "<table border=\"1\" class=\"dataframe\">\n",
       "  <thead>\n",
       "    <tr style=\"text-align: right;\">\n",
       "      <th></th>\n",
       "      <th>Общая</th>\n",
       "      <th>Жилая</th>\n",
       "      <th>Этаж</th>\n",
       "      <th>Тип жилья</th>\n",
       "      <th>Высота потолков</th>\n",
       "      <th>Санузел</th>\n",
       "      <th>Балкон/лоджия</th>\n",
       "      <th>Цена</th>\n",
       "      <th>Комнат</th>\n",
       "      <th>Район</th>\n",
       "      <th>Кухня</th>\n",
       "      <th>id</th>\n",
       "    </tr>\n",
       "  </thead>\n",
       "  <tbody>\n",
       "    <tr>\n",
       "      <th>2</th>\n",
       "      <td>27</td>\n",
       "      <td>13.0</td>\n",
       "      <td>6</td>\n",
       "      <td>Вторичка</td>\n",
       "      <td>2.60</td>\n",
       "      <td>совмещенный</td>\n",
       "      <td>1</td>\n",
       "      <td>1595000</td>\n",
       "      <td>однакомнатные</td>\n",
       "      <td>Тракторозаводский</td>\n",
       "      <td>6.0</td>\n",
       "      <td>1</td>\n",
       "    </tr>\n",
       "    <tr>\n",
       "      <th>3</th>\n",
       "      <td>32</td>\n",
       "      <td>18.0</td>\n",
       "      <td>3</td>\n",
       "      <td>Вторичка</td>\n",
       "      <td>2.55</td>\n",
       "      <td>совмещенный</td>\n",
       "      <td>1</td>\n",
       "      <td>1600000</td>\n",
       "      <td>однакомнатные</td>\n",
       "      <td>Советский</td>\n",
       "      <td>6.0</td>\n",
       "      <td>2</td>\n",
       "    </tr>\n",
       "    <tr>\n",
       "      <th>5</th>\n",
       "      <td>32</td>\n",
       "      <td>18.0</td>\n",
       "      <td>2</td>\n",
       "      <td>Вторичка</td>\n",
       "      <td>2.55</td>\n",
       "      <td>совмещенный</td>\n",
       "      <td>1</td>\n",
       "      <td>1660000</td>\n",
       "      <td>однакомнатные</td>\n",
       "      <td>Краснооктябрьский</td>\n",
       "      <td>6.0</td>\n",
       "      <td>3</td>\n",
       "    </tr>\n",
       "    <tr>\n",
       "      <th>6</th>\n",
       "      <td>29</td>\n",
       "      <td>18.0</td>\n",
       "      <td>2</td>\n",
       "      <td>Вторичка</td>\n",
       "      <td>2.60</td>\n",
       "      <td>совмещенный</td>\n",
       "      <td>1</td>\n",
       "      <td>1440000</td>\n",
       "      <td>однакомнатные</td>\n",
       "      <td>Дзержинский</td>\n",
       "      <td>6.0</td>\n",
       "      <td>4</td>\n",
       "    </tr>\n",
       "    <tr>\n",
       "      <th>7</th>\n",
       "      <td>62</td>\n",
       "      <td>19.0</td>\n",
       "      <td>12</td>\n",
       "      <td>Новостройка</td>\n",
       "      <td>2.60</td>\n",
       "      <td>совмещенный</td>\n",
       "      <td>1</td>\n",
       "      <td>2529400</td>\n",
       "      <td>однакомнатные</td>\n",
       "      <td>Краснооктябрьский</td>\n",
       "      <td>12.0</td>\n",
       "      <td>5</td>\n",
       "    </tr>\n",
       "  </tbody>\n",
       "</table>\n",
       "</div>"
      ],
      "text/plain": [
       "   Общая  Жилая  Этаж    Тип жилья  Высота потолков      Санузел  \\\n",
       "2     27   13.0     6     Вторичка             2.60  совмещенный   \n",
       "3     32   18.0     3     Вторичка             2.55  совмещенный   \n",
       "5     32   18.0     2     Вторичка             2.55  совмещенный   \n",
       "6     29   18.0     2     Вторичка             2.60  совмещенный   \n",
       "7     62   19.0    12  Новостройка             2.60  совмещенный   \n",
       "\n",
       "   Балкон/лоджия     Цена         Комнат              Район  Кухня  id  \n",
       "2              1  1595000  однакомнатные  Тракторозаводский    6.0   1  \n",
       "3              1  1600000  однакомнатные          Советский    6.0   2  \n",
       "5              1  1660000  однакомнатные  Краснооктябрьский    6.0   3  \n",
       "6              1  1440000  однакомнатные        Дзержинский    6.0   4  \n",
       "7              1  2529400  однакомнатные  Краснооктябрьский   12.0   5  "
      ]
     },
     "execution_count": 26,
     "metadata": {},
     "output_type": "execute_result"
    }
   ],
   "source": [
    "data.head()"
   ]
  },
  {
   "cell_type": "code",
   "execution_count": 27,
   "metadata": {},
   "outputs": [
    {
     "data": {
      "image/png": "[encoded data removed]",
      "text/plain": [
       "<Figure size 360x360 with 1 Axes>"
      ]
     },
     "metadata": {
      "needs_background": "light"
     },
     "output_type": "display_data"
    }
   ],
   "source": [
    "_ = sns.catplot(x = 'Цена', y = 'Комнат', data = data, kind='box')"
   ]
  },
  {
   "cell_type": "code",
   "execution_count": 28,
   "metadata": {},
   "outputs": [
    {
     "data": {
      "image/png": "[encoded data removed]",
      "text/plain": [
       "<Figure size 432x288 with 1 Axes>"
      ]
     },
     "metadata": {
      "needs_background": "light"
     },
     "output_type": "display_data"
    }
   ],
   "source": [
    "_ = sns.violinplot(x='Цена', y = 'Комнат', data = data)"
   ]
  },
  {
   "cell_type": "code",
   "execution_count": 29,
   "metadata": {
    "scrolled": true
   },
   "outputs": [
    {
     "data": {
      "image/png": "[encoded data removed]",
      "text/plain": [
       "<Figure size 432x288 with 1 Axes>"
      ]
     },
     "metadata": {
      "needs_background": "light"
     },
     "output_type": "display_data"
    }
   ],
   "source": [
    "plt.title(\"Цена по наличию балкона\")\n",
    "_ = sns.boxplot(data = data, x = 'Балкон/лоджия', y = 'Цена')"
   ]
  },
  {
   "cell_type": "code",
   "execution_count": 30,
   "metadata": {},
   "outputs": [
    {
     "data": {
      "image/png": "[encoded data removed]",
      "text/plain": [
       "<Figure size 432x288 with 1 Axes>"
      ]
     },
     "metadata": {
      "needs_background": "light"
     },
     "output_type": "display_data"
    }
   ],
   "source": [
    "plt.title(\"Цена по характеристике санузла\")\n",
    "_ = sns.boxplot(data = data, x = 'Санузел', y = 'Цена')"
   ]
  },
  {
   "cell_type": "code",
   "execution_count": 31,
   "metadata": {},
   "outputs": [
    {
     "data": {
      "image/png": "[encoded data removed]",
      "text/plain": [
       "<Figure size 432x288 with 1 Axes>"
      ]
     },
     "metadata": {
      "needs_background": "light"
     },
     "output_type": "display_data"
    }
   ],
   "source": [
    "_ = data.pivot_table('id', 'Комнат', 'Балкон/лоджия', 'count').plot(kind='bar', stacked=True)"
   ]
  },
  {
   "cell_type": "code",
   "execution_count": 32,
   "metadata": {},
   "outputs": [
    {
     "data": {
      "image/png": "[encoded data removed]",
      "text/plain": [
       "<Figure size 432x288 with 1 Axes>"
      ]
     },
     "metadata": {
      "needs_background": "light"
     },
     "output_type": "display_data"
    }
   ],
   "source": [
    "#распределение по районам \n",
    "_ = data.pivot_table('id', 'Район', 'Тип жилья', 'count').plot(kind='bar', stacked=True)"
   ]
  },
  {
   "cell_type": "code",
   "execution_count": 33,
   "metadata": {},
   "outputs": [
    {
     "data": {
      "image/png": "[encoded data removed]",
      "text/plain": [
       "<Figure size 432x288 with 1 Axes>"
      ]
     },
     "metadata": {
      "needs_background": "light"
     },
     "output_type": "display_data"
    }
   ],
   "source": [
    "_ = data.pivot_table('id', 'Район', 'Комнат', 'count').plot(kind='bar', stacked=True)"
   ]
  },
  {
   "cell_type": "code",
   "execution_count": 34,
   "metadata": {},
   "outputs": [
    {
     "data": {
      "image/png": "[encoded data removed]",
      "text/plain": [
       "<Figure size 432x288 with 1 Axes>"
      ]
     },
     "metadata": {
      "needs_background": "light"
     },
     "output_type": "display_data"
    }
   ],
   "source": [
    "_ = data.pivot_table('id', 'Район', 'Санузел', 'count').plot(kind='bar', stacked=True)"
   ]
  },
  {
   "cell_type": "code",
   "execution_count": 35,
   "metadata": {},
   "outputs": [
    {
     "data": {
      "image/png": "[encoded data removed]",
      "text/plain": [
       "<Figure size 432x288 with 1 Axes>"
      ]
     },
     "metadata": {
      "needs_background": "light"
     },
     "output_type": "display_data"
    }
   ],
   "source": [
    "_ = sns.boxplot( y=data[\"Высота потолков\"] ) ## Важно -- видим выбросы"
   ]
  },
  {
   "cell_type": "code",
   "execution_count": 36,
   "metadata": {},
   "outputs": [],
   "source": [
    "data = data.drop(['Тип жилья'],axis=1)"
   ]
  },
  {
   "cell_type": "code",
   "execution_count": 37,
   "metadata": {},
   "outputs": [],
   "source": [
    "data = data.drop(['Санузел'],axis=1)"
   ]
  },
  {
   "cell_type": "code",
   "execution_count": 38,
   "metadata": {},
   "outputs": [],
   "source": [
    "data = data.drop(['Балкон/лоджия'],axis=1)"
   ]
  },
  {
   "cell_type": "code",
   "execution_count": 39,
   "metadata": {},
   "outputs": [],
   "source": [
    "data = data.drop(['Комнат'],axis=1)"
   ]
  },
  {
   "cell_type": "code",
   "execution_count": 40,
   "metadata": {},
   "outputs": [],
   "source": [
    "data = data.drop(['Район'],axis=1)"
   ]
  },
  {
   "cell_type": "code",
   "execution_count": 41,
   "metadata": {},
   "outputs": [],
   "source": [
    "data = data.drop(['id'],axis=1)"
   ]
  },
  {
   "cell_type": "code",
   "execution_count": 42,
   "metadata": {},
   "outputs": [
    {
     "data": {
      "text/html": [
       "<div>\n",
       "<style scoped>\n",
       "    .dataframe tbody tr th:only-of-type {\n",
       "        vertical-align: middle;\n",
       "    }\n",
       "\n",
       "    .dataframe tbody tr th {\n",
       "        vertical-align: top;\n",
       "    }\n",
       "\n",
       "    .dataframe thead th {\n",
       "        text-align: right;\n",
       "    }\n",
       "</style>\n",
       "<table border=\"1\" class=\"dataframe\">\n",
       "  <thead>\n",
       "    <tr style=\"text-align: right;\">\n",
       "      <th></th>\n",
       "      <th>Общая</th>\n",
       "      <th>Жилая</th>\n",
       "      <th>Этаж</th>\n",
       "      <th>Высота потолков</th>\n",
       "      <th>Цена</th>\n",
       "      <th>Кухня</th>\n",
       "    </tr>\n",
       "  </thead>\n",
       "  <tbody>\n",
       "    <tr>\n",
       "      <th>1526</th>\n",
       "      <td>49</td>\n",
       "      <td>31.0</td>\n",
       "      <td>5</td>\n",
       "      <td>2.50</td>\n",
       "      <td>2500000</td>\n",
       "      <td>6.0</td>\n",
       "    </tr>\n",
       "    <tr>\n",
       "      <th>1527</th>\n",
       "      <td>44</td>\n",
       "      <td>27.0</td>\n",
       "      <td>2</td>\n",
       "      <td>2.60</td>\n",
       "      <td>2500000</td>\n",
       "      <td>6.0</td>\n",
       "    </tr>\n",
       "    <tr>\n",
       "      <th>1528</th>\n",
       "      <td>48</td>\n",
       "      <td>27.0</td>\n",
       "      <td>4</td>\n",
       "      <td>2.60</td>\n",
       "      <td>2500000</td>\n",
       "      <td>9.0</td>\n",
       "    </tr>\n",
       "    <tr>\n",
       "      <th>1532</th>\n",
       "      <td>49</td>\n",
       "      <td>33.0</td>\n",
       "      <td>1</td>\n",
       "      <td>2.55</td>\n",
       "      <td>2400000</td>\n",
       "      <td>8.0</td>\n",
       "    </tr>\n",
       "    <tr>\n",
       "      <th>1537</th>\n",
       "      <td>42</td>\n",
       "      <td>27.0</td>\n",
       "      <td>2</td>\n",
       "      <td>2.60</td>\n",
       "      <td>2200000</td>\n",
       "      <td>6.0</td>\n",
       "    </tr>\n",
       "  </tbody>\n",
       "</table>\n",
       "</div>"
      ],
      "text/plain": [
       "      Общая  Жилая  Этаж  Высота потолков     Цена  Кухня\n",
       "1526     49   31.0     5             2.50  2500000    6.0\n",
       "1527     44   27.0     2             2.60  2500000    6.0\n",
       "1528     48   27.0     4             2.60  2500000    9.0\n",
       "1532     49   33.0     1             2.55  2400000    8.0\n",
       "1537     42   27.0     2             2.60  2200000    6.0"
      ]
     },
     "execution_count": 42,
     "metadata": {},
     "output_type": "execute_result"
    }
   ],
   "source": [
    "data.tail()"
   ]
  },
  {
   "cell_type": "code",
   "execution_count": 43,
   "metadata": {},
   "outputs": [
    {
     "data": {
      "image/png": "[encoded data removed]",
      "text/plain": [
       "<Figure size 288x288 with 1 Axes>"
      ]
     },
     "metadata": {
      "needs_background": "light"
     },
     "output_type": "display_data"
    }
   ],
   "source": [
    "plt.matshow(data.corr())\n",
    "plt.show()"
   ]
  },
  {
   "cell_type": "code",
   "execution_count": 44,
   "metadata": {},
   "outputs": [
    {
     "data": {
      "text/html": [
       "<style  type=\"text/css\" >\n",
       "    #T_410d30c4_3b8a_11eb_8b2a_acde48001122row0_col0 {\n",
       "            background-color:  #b40426;\n",
       "            color:  #f1f1f1;\n",
       "        }    #T_410d30c4_3b8a_11eb_8b2a_acde48001122row0_col1 {\n",
       "            background-color:  #d85646;\n",
       "            color:  #000000;\n",
       "        }    #T_410d30c4_3b8a_11eb_8b2a_acde48001122row0_col2 {\n",
       "            background-color:  #82a6fb;\n",
       "            color:  #000000;\n",
       "        }    #T_410d30c4_3b8a_11eb_8b2a_acde48001122row0_col3 {\n",
       "            background-color:  #5f7fe8;\n",
       "            color:  #000000;\n",
       "        }    #T_410d30c4_3b8a_11eb_8b2a_acde48001122row0_col4 {\n",
       "            background-color:  #f5a081;\n",
       "            color:  #000000;\n",
       "        }    #T_410d30c4_3b8a_11eb_8b2a_acde48001122row0_col5 {\n",
       "            background-color:  #d4dbe6;\n",
       "            color:  #000000;\n",
       "        }    #T_410d30c4_3b8a_11eb_8b2a_acde48001122row1_col0 {\n",
       "            background-color:  #d95847;\n",
       "            color:  #000000;\n",
       "        }    #T_410d30c4_3b8a_11eb_8b2a_acde48001122row1_col1 {\n",
       "            background-color:  #b40426;\n",
       "            color:  #f1f1f1;\n",
       "        }    #T_410d30c4_3b8a_11eb_8b2a_acde48001122row1_col2 {\n",
       "            background-color:  #5b7ae5;\n",
       "            color:  #000000;\n",
       "        }    #T_410d30c4_3b8a_11eb_8b2a_acde48001122row1_col3 {\n",
       "            background-color:  #5875e1;\n",
       "            color:  #000000;\n",
       "        }    #T_410d30c4_3b8a_11eb_8b2a_acde48001122row1_col4 {\n",
       "            background-color:  #efcfbf;\n",
       "            color:  #000000;\n",
       "        }    #T_410d30c4_3b8a_11eb_8b2a_acde48001122row1_col5 {\n",
       "            background-color:  #6b8df0;\n",
       "            color:  #000000;\n",
       "        }    #T_410d30c4_3b8a_11eb_8b2a_acde48001122row2_col0 {\n",
       "            background-color:  #5d7ce6;\n",
       "            color:  #000000;\n",
       "        }    #T_410d30c4_3b8a_11eb_8b2a_acde48001122row2_col1 {\n",
       "            background-color:  #3e51c5;\n",
       "            color:  #f1f1f1;\n",
       "        }    #T_410d30c4_3b8a_11eb_8b2a_acde48001122row2_col2 {\n",
       "            background-color:  #b40426;\n",
       "            color:  #f1f1f1;\n",
       "        }    #T_410d30c4_3b8a_11eb_8b2a_acde48001122row2_col3 {\n",
       "            background-color:  #3b4cc0;\n",
       "            color:  #f1f1f1;\n",
       "        }    #T_410d30c4_3b8a_11eb_8b2a_acde48001122row2_col4 {\n",
       "            background-color:  #9dbdff;\n",
       "            color:  #000000;\n",
       "        }    #T_410d30c4_3b8a_11eb_8b2a_acde48001122row2_col5 {\n",
       "            background-color:  #7da0f9;\n",
       "            color:  #000000;\n",
       "        }    #T_410d30c4_3b8a_11eb_8b2a_acde48001122row3_col0 {\n",
       "            background-color:  #3b4cc0;\n",
       "            color:  #f1f1f1;\n",
       "        }    #T_410d30c4_3b8a_11eb_8b2a_acde48001122row3_col1 {\n",
       "            background-color:  #3b4cc0;\n",
       "            color:  #f1f1f1;\n",
       "        }    #T_410d30c4_3b8a_11eb_8b2a_acde48001122row3_col2 {\n",
       "            background-color:  #3b4cc0;\n",
       "            color:  #f1f1f1;\n",
       "        }    #T_410d30c4_3b8a_11eb_8b2a_acde48001122row3_col3 {\n",
       "            background-color:  #b40426;\n",
       "            color:  #f1f1f1;\n",
       "        }    #T_410d30c4_3b8a_11eb_8b2a_acde48001122row3_col4 {\n",
       "            background-color:  #3b4cc0;\n",
       "            color:  #f1f1f1;\n",
       "        }    #T_410d30c4_3b8a_11eb_8b2a_acde48001122row3_col5 {\n",
       "            background-color:  #3b4cc0;\n",
       "            color:  #f1f1f1;\n",
       "        }    #T_410d30c4_3b8a_11eb_8b2a_acde48001122row4_col0 {\n",
       "            background-color:  #f7a688;\n",
       "            color:  #000000;\n",
       "        }    #T_410d30c4_3b8a_11eb_8b2a_acde48001122row4_col1 {\n",
       "            background-color:  #edd2c3;\n",
       "            color:  #000000;\n",
       "        }    #T_410d30c4_3b8a_11eb_8b2a_acde48001122row4_col2 {\n",
       "            background-color:  #adc9fd;\n",
       "            color:  #000000;\n",
       "        }    #T_410d30c4_3b8a_11eb_8b2a_acde48001122row4_col3 {\n",
       "            background-color:  #4f69d9;\n",
       "            color:  #000000;\n",
       "        }    #T_410d30c4_3b8a_11eb_8b2a_acde48001122row4_col4 {\n",
       "            background-color:  #b40426;\n",
       "            color:  #f1f1f1;\n",
       "        }    #T_410d30c4_3b8a_11eb_8b2a_acde48001122row4_col5 {\n",
       "            background-color:  #dbdcde;\n",
       "            color:  #000000;\n",
       "        }    #T_410d30c4_3b8a_11eb_8b2a_acde48001122row5_col0 {\n",
       "            background-color:  #cfdaea;\n",
       "            color:  #000000;\n",
       "        }    #T_410d30c4_3b8a_11eb_8b2a_acde48001122row5_col1 {\n",
       "            background-color:  #6b8df0;\n",
       "            color:  #000000;\n",
       "        }    #T_410d30c4_3b8a_11eb_8b2a_acde48001122row5_col2 {\n",
       "            background-color:  #98b9ff;\n",
       "            color:  #000000;\n",
       "        }    #T_410d30c4_3b8a_11eb_8b2a_acde48001122row5_col3 {\n",
       "            background-color:  #5875e1;\n",
       "            color:  #000000;\n",
       "        }    #T_410d30c4_3b8a_11eb_8b2a_acde48001122row5_col4 {\n",
       "            background-color:  #dedcdb;\n",
       "            color:  #000000;\n",
       "        }    #T_410d30c4_3b8a_11eb_8b2a_acde48001122row5_col5 {\n",
       "            background-color:  #b40426;\n",
       "            color:  #f1f1f1;\n",
       "        }</style><table id=\"T_410d30c4_3b8a_11eb_8b2a_acde48001122\" ><thead>    <tr>        <th class=\"blank level0\" ></th>        <th class=\"col_heading level0 col0\" >Общая</th>        <th class=\"col_heading level0 col1\" >Жилая</th>        <th class=\"col_heading level0 col2\" >Этаж</th>        <th class=\"col_heading level0 col3\" >Высота потолков</th>        <th class=\"col_heading level0 col4\" >Цена</th>        <th class=\"col_heading level0 col5\" >Кухня</th>    </tr></thead><tbody>\n",
       "                <tr>\n",
       "                        <th id=\"T_410d30c4_3b8a_11eb_8b2a_acde48001122level0_row0\" class=\"row_heading level0 row0\" >Общая</th>\n",
       "                        <td id=\"T_410d30c4_3b8a_11eb_8b2a_acde48001122row0_col0\" class=\"data row0 col0\" >1.00</td>\n",
       "                        <td id=\"T_410d30c4_3b8a_11eb_8b2a_acde48001122row0_col1\" class=\"data row0 col1\" >0.90</td>\n",
       "                        <td id=\"T_410d30c4_3b8a_11eb_8b2a_acde48001122row0_col2\" class=\"data row0 col2\" >0.21</td>\n",
       "                        <td id=\"T_410d30c4_3b8a_11eb_8b2a_acde48001122row0_col3\" class=\"data row0 col3\" >0.11</td>\n",
       "                        <td id=\"T_410d30c4_3b8a_11eb_8b2a_acde48001122row0_col4\" class=\"data row0 col4\" >0.75</td>\n",
       "                        <td id=\"T_410d30c4_3b8a_11eb_8b2a_acde48001122row0_col5\" class=\"data row0 col5\" >0.51</td>\n",
       "            </tr>\n",
       "            <tr>\n",
       "                        <th id=\"T_410d30c4_3b8a_11eb_8b2a_acde48001122level0_row1\" class=\"row_heading level0 row1\" >Жилая</th>\n",
       "                        <td id=\"T_410d30c4_3b8a_11eb_8b2a_acde48001122row1_col0\" class=\"data row1 col0\" >0.90</td>\n",
       "                        <td id=\"T_410d30c4_3b8a_11eb_8b2a_acde48001122row1_col1\" class=\"data row1 col1\" >1.00</td>\n",
       "                        <td id=\"T_410d30c4_3b8a_11eb_8b2a_acde48001122row1_col2\" class=\"data row1 col2\" >0.09</td>\n",
       "                        <td id=\"T_410d30c4_3b8a_11eb_8b2a_acde48001122row1_col3\" class=\"data row1 col3\" >0.08</td>\n",
       "                        <td id=\"T_410d30c4_3b8a_11eb_8b2a_acde48001122row1_col4\" class=\"data row1 col4\" >0.60</td>\n",
       "                        <td id=\"T_410d30c4_3b8a_11eb_8b2a_acde48001122row1_col5\" class=\"data row1 col5\" >0.22</td>\n",
       "            </tr>\n",
       "            <tr>\n",
       "                        <th id=\"T_410d30c4_3b8a_11eb_8b2a_acde48001122level0_row2\" class=\"row_heading level0 row2\" >Этаж</th>\n",
       "                        <td id=\"T_410d30c4_3b8a_11eb_8b2a_acde48001122row2_col0\" class=\"data row2 col0\" >0.21</td>\n",
       "                        <td id=\"T_410d30c4_3b8a_11eb_8b2a_acde48001122row2_col1\" class=\"data row2 col1\" >0.09</td>\n",
       "                        <td id=\"T_410d30c4_3b8a_11eb_8b2a_acde48001122row2_col2\" class=\"data row2 col2\" >1.00</td>\n",
       "                        <td id=\"T_410d30c4_3b8a_11eb_8b2a_acde48001122row2_col3\" class=\"data row2 col3\" >-0.02</td>\n",
       "                        <td id=\"T_410d30c4_3b8a_11eb_8b2a_acde48001122row2_col4\" class=\"data row2 col4\" >0.33</td>\n",
       "                        <td id=\"T_410d30c4_3b8a_11eb_8b2a_acde48001122row2_col5\" class=\"data row2 col5\" >0.27</td>\n",
       "            </tr>\n",
       "            <tr>\n",
       "                        <th id=\"T_410d30c4_3b8a_11eb_8b2a_acde48001122level0_row3\" class=\"row_heading level0 row3\" >Высота потолков</th>\n",
       "                        <td id=\"T_410d30c4_3b8a_11eb_8b2a_acde48001122row3_col0\" class=\"data row3 col0\" >0.11</td>\n",
       "                        <td id=\"T_410d30c4_3b8a_11eb_8b2a_acde48001122row3_col1\" class=\"data row3 col1\" >0.08</td>\n",
       "                        <td id=\"T_410d30c4_3b8a_11eb_8b2a_acde48001122row3_col2\" class=\"data row3 col2\" >-0.02</td>\n",
       "                        <td id=\"T_410d30c4_3b8a_11eb_8b2a_acde48001122row3_col3\" class=\"data row3 col3\" >1.00</td>\n",
       "                        <td id=\"T_410d30c4_3b8a_11eb_8b2a_acde48001122row3_col4\" class=\"data row3 col4\" >0.05</td>\n",
       "                        <td id=\"T_410d30c4_3b8a_11eb_8b2a_acde48001122row3_col5\" class=\"data row3 col5\" >0.08</td>\n",
       "            </tr>\n",
       "            <tr>\n",
       "                        <th id=\"T_410d30c4_3b8a_11eb_8b2a_acde48001122level0_row4\" class=\"row_heading level0 row4\" >Цена</th>\n",
       "                        <td id=\"T_410d30c4_3b8a_11eb_8b2a_acde48001122row4_col0\" class=\"data row4 col0\" >0.75</td>\n",
       "                        <td id=\"T_410d30c4_3b8a_11eb_8b2a_acde48001122row4_col1\" class=\"data row4 col1\" >0.60</td>\n",
       "                        <td id=\"T_410d30c4_3b8a_11eb_8b2a_acde48001122row4_col2\" class=\"data row4 col2\" >0.33</td>\n",
       "                        <td id=\"T_410d30c4_3b8a_11eb_8b2a_acde48001122row4_col3\" class=\"data row4 col3\" >0.05</td>\n",
       "                        <td id=\"T_410d30c4_3b8a_11eb_8b2a_acde48001122row4_col4\" class=\"data row4 col4\" >1.00</td>\n",
       "                        <td id=\"T_410d30c4_3b8a_11eb_8b2a_acde48001122row4_col5\" class=\"data row4 col5\" >0.53</td>\n",
       "            </tr>\n",
       "            <tr>\n",
       "                        <th id=\"T_410d30c4_3b8a_11eb_8b2a_acde48001122level0_row5\" class=\"row_heading level0 row5\" >Кухня</th>\n",
       "                        <td id=\"T_410d30c4_3b8a_11eb_8b2a_acde48001122row5_col0\" class=\"data row5 col0\" >0.51</td>\n",
       "                        <td id=\"T_410d30c4_3b8a_11eb_8b2a_acde48001122row5_col1\" class=\"data row5 col1\" >0.22</td>\n",
       "                        <td id=\"T_410d30c4_3b8a_11eb_8b2a_acde48001122row5_col2\" class=\"data row5 col2\" >0.27</td>\n",
       "                        <td id=\"T_410d30c4_3b8a_11eb_8b2a_acde48001122row5_col3\" class=\"data row5 col3\" >0.08</td>\n",
       "                        <td id=\"T_410d30c4_3b8a_11eb_8b2a_acde48001122row5_col4\" class=\"data row5 col4\" >0.53</td>\n",
       "                        <td id=\"T_410d30c4_3b8a_11eb_8b2a_acde48001122row5_col5\" class=\"data row5 col5\" >1.00</td>\n",
       "            </tr>\n",
       "    </tbody></table>"
      ],
      "text/plain": [
       "<pandas.io.formats.style.Styler at 0x7fd7a2627ee0>"
      ]
     },
     "execution_count": 44,
     "metadata": {},
     "output_type": "execute_result"
    }
   ],
   "source": [
    "rs = np.random.RandomState(0)\n",
    "corr = data.corr()\n",
    "corr.style.background_gradient(cmap='coolwarm').set_precision(2)"
   ]
  },
  {
   "cell_type": "code",
   "execution_count": 45,
   "metadata": {},
   "outputs": [
    {
     "data": {
      "image/png": "[encoded data removed]",
      "text/plain": [
       "<Figure size 432x288 with 1 Axes>"
      ]
     },
     "metadata": {
      "needs_background": "light"
     },
     "output_type": "display_data"
    }
   ],
   "source": [
    "_ = sns.distplot(data['Цена'])"
   ]
  },
  {
   "cell_type": "code",
   "execution_count": 46,
   "metadata": {},
   "outputs": [
    {
     "data": {
      "image/png": "[encoded data removed]",
      "text/plain": [
       "<Figure size 432x288 with 1 Axes>"
      ]
     },
     "metadata": {
      "needs_background": "light"
     },
     "output_type": "display_data"
    }
   ],
   "source": [
    "_ = sns.distplot(np.log(data['Цена'])) # Логарифм цены"
   ]
  },
  {
   "cell_type": "code",
   "execution_count": null,
   "metadata": {},
   "outputs": [],
   "source": []
  }
 ],
 "metadata": {
  "kernelspec": {
   "display_name": "Python 3",
   "language": "python",
   "name": "python3"
  },
  "language_info": {
   "codemirror_mode": {
    "name": "ipython",
    "version": 3
   },
   "file_extension": ".py",
   "mimetype": "text/x-python",
   "name": "python",
   "nbconvert_exporter": "python",
   "pygments_lexer": "ipython3",
   "version": "3.7.4"
  }
 },
 "nbformat": 4,
 "nbformat_minor": 4
}
