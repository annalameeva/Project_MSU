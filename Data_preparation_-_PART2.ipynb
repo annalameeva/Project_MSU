{
 "cells": [
  {
   "cell_type": "code",
   "execution_count": 66,
   "metadata": {},
   "outputs": [],
   "source": [
    "import glob\n",
    "import pandas as pd\n",
    "import seaborn as sns\n",
    "import matplotlib.pyplot as plt\n",
    "%matplotlib inline\n",
    "from sklearn.preprocessing import LabelEncoder, OneHotEncoder"
   ]
  },
  {
   "cell_type": "code",
   "execution_count": 67,
   "metadata": {},
   "outputs": [
    {
     "data": {
      "text/plain": [
       "['CIANflats1.csv', 'CIANflats3.csv', 'CIANflats2.csv']"
      ]
     },
     "execution_count": 67,
     "metadata": {},
     "output_type": "execute_result"
    }
   ],
   "source": [
    "file_list = glob.glob(\"*.csv\")\n",
    "file_list"
   ]
  },
  {
   "cell_type": "code",
   "execution_count": 68,
   "metadata": {},
   "outputs": [],
   "source": [
    "data = pd.concat([pd.read_csv(f, index_col=0) for f in file_list])"
   ]
  },
  {
   "cell_type": "code",
   "execution_count": 69,
   "metadata": {},
   "outputs": [
    {
     "data": {
      "text/html": [
       "<div>\n",
       "<style scoped>\n",
       "    .dataframe tbody tr th:only-of-type {\n",
       "        vertical-align: middle;\n",
       "    }\n",
       "\n",
       "    .dataframe tbody tr th {\n",
       "        vertical-align: top;\n",
       "    }\n",
       "\n",
       "    .dataframe thead th {\n",
       "        text-align: right;\n",
       "    }\n",
       "</style>\n",
       "<table border=\"1\" class=\"dataframe\">\n",
       "  <thead>\n",
       "    <tr style=\"text-align: right;\">\n",
       "      <th></th>\n",
       "      <th>Общая</th>\n",
       "      <th>Жилая</th>\n",
       "      <th>Этаж</th>\n",
       "      <th>Тип жилья</th>\n",
       "      <th>Высота потолков</th>\n",
       "      <th>Санузел</th>\n",
       "      <th>Балкон/лоджия</th>\n",
       "      <th>Цена</th>\n",
       "      <th>Комнат</th>\n",
       "      <th>Район</th>\n",
       "      <th>Линк</th>\n",
       "      <th>Кухня</th>\n",
       "      <th>Срок сдачи</th>\n",
       "      <th>Площадь комнат+ обозначение смежных комнат- обозначение изолированных комнат</th>\n",
       "      <th>Построен</th>\n",
       "      <th>Ремонт</th>\n",
       "      <th>Вид из окон</th>\n",
       "      <th>Отделка</th>\n",
       "      <th>Планировка</th>\n",
       "    </tr>\n",
       "  </thead>\n",
       "  <tbody>\n",
       "    <tr>\n",
       "      <th>1</th>\n",
       "      <td>41</td>\n",
       "      <td>30.0</td>\n",
       "      <td>2</td>\n",
       "      <td>Вторичка</td>\n",
       "      <td>2,75 м</td>\n",
       "      <td>1 совмещенный</td>\n",
       "      <td>1 балкон</td>\n",
       "      <td>1970000</td>\n",
       "      <td>1-комн.</td>\n",
       "      <td>р-н Дзержинский</td>\n",
       "      <td>https://volgograd.cian.ru/sale/flat/241860530/</td>\n",
       "      <td>NaN</td>\n",
       "      <td>NaN</td>\n",
       "      <td>NaN</td>\n",
       "      <td>NaN</td>\n",
       "      <td>NaN</td>\n",
       "      <td>NaN</td>\n",
       "      <td>NaN</td>\n",
       "      <td>NaN</td>\n",
       "    </tr>\n",
       "    <tr>\n",
       "      <th>2</th>\n",
       "      <td>27</td>\n",
       "      <td>13.0</td>\n",
       "      <td>6</td>\n",
       "      <td>Вторичка</td>\n",
       "      <td>NaN</td>\n",
       "      <td>1 совмещенный</td>\n",
       "      <td>1 балкон</td>\n",
       "      <td>1595000</td>\n",
       "      <td>1-комн.</td>\n",
       "      <td>р-н Тракторозаводский</td>\n",
       "      <td>https://volgograd.cian.ru/sale/flat/236865610/</td>\n",
       "      <td>6.0</td>\n",
       "      <td>NaN</td>\n",
       "      <td>NaN</td>\n",
       "      <td>NaN</td>\n",
       "      <td>NaN</td>\n",
       "      <td>NaN</td>\n",
       "      <td>NaN</td>\n",
       "      <td>NaN</td>\n",
       "    </tr>\n",
       "    <tr>\n",
       "      <th>3</th>\n",
       "      <td>32</td>\n",
       "      <td>18.0</td>\n",
       "      <td>3</td>\n",
       "      <td>Вторичка</td>\n",
       "      <td>2,55 м</td>\n",
       "      <td>1 совмещенный</td>\n",
       "      <td>1 балкон</td>\n",
       "      <td>1600000</td>\n",
       "      <td>1-комн.</td>\n",
       "      <td>р-н Советский</td>\n",
       "      <td>https://volgograd.cian.ru/sale/flat/222097040/</td>\n",
       "      <td>6.0</td>\n",
       "      <td>NaN</td>\n",
       "      <td>NaN</td>\n",
       "      <td>NaN</td>\n",
       "      <td>NaN</td>\n",
       "      <td>NaN</td>\n",
       "      <td>NaN</td>\n",
       "      <td>NaN</td>\n",
       "    </tr>\n",
       "    <tr>\n",
       "      <th>4</th>\n",
       "      <td>23</td>\n",
       "      <td>17.0</td>\n",
       "      <td>1</td>\n",
       "      <td>Вторичка</td>\n",
       "      <td>NaN</td>\n",
       "      <td>1 совмещенный</td>\n",
       "      <td>1 балкон</td>\n",
       "      <td>1670000</td>\n",
       "      <td>1-комн.</td>\n",
       "      <td>р-н Дзержинский</td>\n",
       "      <td>https://volgograd.cian.ru/sale/flat/241462183/</td>\n",
       "      <td>NaN</td>\n",
       "      <td>NaN</td>\n",
       "      <td>NaN</td>\n",
       "      <td>NaN</td>\n",
       "      <td>NaN</td>\n",
       "      <td>NaN</td>\n",
       "      <td>NaN</td>\n",
       "      <td>NaN</td>\n",
       "    </tr>\n",
       "    <tr>\n",
       "      <th>5</th>\n",
       "      <td>32</td>\n",
       "      <td>18.0</td>\n",
       "      <td>2</td>\n",
       "      <td>Вторичка</td>\n",
       "      <td>2,55 м</td>\n",
       "      <td>1 совмещенный</td>\n",
       "      <td>1 балкон</td>\n",
       "      <td>1660000</td>\n",
       "      <td>1-комн.</td>\n",
       "      <td>р-н Краснооктябрьский</td>\n",
       "      <td>https://volgograd.cian.ru/sale/flat/245137090/</td>\n",
       "      <td>6.0</td>\n",
       "      <td>NaN</td>\n",
       "      <td>NaN</td>\n",
       "      <td>NaN</td>\n",
       "      <td>NaN</td>\n",
       "      <td>NaN</td>\n",
       "      <td>NaN</td>\n",
       "      <td>NaN</td>\n",
       "    </tr>\n",
       "  </tbody>\n",
       "</table>\n",
       "</div>"
      ],
      "text/plain": [
       "   Общая  Жилая  Этаж Тип жилья Высота потолков        Санузел Балкон/лоджия  \\\n",
       "1     41   30.0     2  Вторичка          2,75 м  1 совмещенный      1 балкон   \n",
       "2     27   13.0     6  Вторичка             NaN  1 совмещенный      1 балкон   \n",
       "3     32   18.0     3  Вторичка          2,55 м  1 совмещенный      1 балкон   \n",
       "4     23   17.0     1  Вторичка             NaN  1 совмещенный      1 балкон   \n",
       "5     32   18.0     2  Вторичка          2,55 м  1 совмещенный      1 балкон   \n",
       "\n",
       "      Цена   Комнат                  Район  \\\n",
       "1  1970000  1-комн.        р-н Дзержинский   \n",
       "2  1595000  1-комн.  р-н Тракторозаводский   \n",
       "3  1600000  1-комн.          р-н Советский   \n",
       "4  1670000  1-комн.        р-н Дзержинский   \n",
       "5  1660000  1-комн.  р-н Краснооктябрьский   \n",
       "\n",
       "                                             Линк  Кухня  Срок сдачи  \\\n",
       "1  https://volgograd.cian.ru/sale/flat/241860530/    NaN         NaN   \n",
       "2  https://volgograd.cian.ru/sale/flat/236865610/    6.0         NaN   \n",
       "3  https://volgograd.cian.ru/sale/flat/222097040/    6.0         NaN   \n",
       "4  https://volgograd.cian.ru/sale/flat/241462183/    NaN         NaN   \n",
       "5  https://volgograd.cian.ru/sale/flat/245137090/    6.0         NaN   \n",
       "\n",
       "  Площадь комнат+ обозначение смежных комнат- обозначение изолированных комнат  \\\n",
       "1                                                NaN                             \n",
       "2                                                NaN                             \n",
       "3                                                NaN                             \n",
       "4                                                NaN                             \n",
       "5                                                NaN                             \n",
       "\n",
       "   Построен Ремонт Вид из окон Отделка Планировка  \n",
       "1       NaN    NaN         NaN     NaN        NaN  \n",
       "2       NaN    NaN         NaN     NaN        NaN  \n",
       "3       NaN    NaN         NaN     NaN        NaN  \n",
       "4       NaN    NaN         NaN     NaN        NaN  \n",
       "5       NaN    NaN         NaN     NaN        NaN  "
      ]
     },
     "execution_count": 69,
     "metadata": {},
     "output_type": "execute_result"
    }
   ],
   "source": [
    "data.head()"
   ]
  },
  {
   "cell_type": "code",
   "execution_count": 70,
   "metadata": {},
   "outputs": [
    {
     "name": "stdout",
     "output_type": "stream",
     "text": [
      "(3988, 19)\n",
      "(3894, 19)\n"
     ]
    }
   ],
   "source": [
    "# Удаляем дубликаты наблюдений\n",
    "print(data.shape)\n",
    "data = data.drop_duplicates(keep='first')\n",
    "print(data.shape)\n",
    "\n",
    "# Было: 3988. Стало: 3894"
   ]
  },
  {
   "cell_type": "code",
   "execution_count": 71,
   "metadata": {},
   "outputs": [
    {
     "data": {
      "text/plain": [
       "Index(['Общая', 'Жилая', 'Этаж', 'Тип жилья', 'Высота потолков', 'Санузел',\n",
       "       'Балкон/лоджия', 'Цена', 'Комнат', 'Район', 'Линк', 'Кухня',\n",
       "       'Срок сдачи',\n",
       "       'Площадь комнат+ обозначение смежных комнат- обозначение изолированных комнат',\n",
       "       'Построен', 'Ремонт', 'Вид из окон', 'Отделка', 'Планировка'],\n",
       "      dtype='object')"
      ]
     },
     "execution_count": 71,
     "metadata": {},
     "output_type": "execute_result"
    }
   ],
   "source": [
    "data.columns"
   ]
  },
  {
   "cell_type": "code",
   "execution_count": 72,
   "metadata": {},
   "outputs": [],
   "source": [
    "# Удаляем лишние столбцы\n",
    "data.drop(data.columns[[10,12,13,14,15,16,17,18]], axis='columns', inplace= True)"
   ]
  },
  {
   "cell_type": "code",
   "execution_count": 73,
   "metadata": {},
   "outputs": [
    {
     "data": {
      "text/html": [
       "<div>\n",
       "<style scoped>\n",
       "    .dataframe tbody tr th:only-of-type {\n",
       "        vertical-align: middle;\n",
       "    }\n",
       "\n",
       "    .dataframe tbody tr th {\n",
       "        vertical-align: top;\n",
       "    }\n",
       "\n",
       "    .dataframe thead th {\n",
       "        text-align: right;\n",
       "    }\n",
       "</style>\n",
       "<table border=\"1\" class=\"dataframe\">\n",
       "  <thead>\n",
       "    <tr style=\"text-align: right;\">\n",
       "      <th></th>\n",
       "      <th>Общая</th>\n",
       "      <th>Жилая</th>\n",
       "      <th>Этаж</th>\n",
       "      <th>Тип жилья</th>\n",
       "      <th>Высота потолков</th>\n",
       "      <th>Санузел</th>\n",
       "      <th>Балкон/лоджия</th>\n",
       "      <th>Цена</th>\n",
       "      <th>Комнат</th>\n",
       "      <th>Район</th>\n",
       "      <th>Кухня</th>\n",
       "    </tr>\n",
       "  </thead>\n",
       "  <tbody>\n",
       "    <tr>\n",
       "      <th>1</th>\n",
       "      <td>41</td>\n",
       "      <td>30.0</td>\n",
       "      <td>2</td>\n",
       "      <td>Вторичка</td>\n",
       "      <td>2,75 м</td>\n",
       "      <td>1 совмещенный</td>\n",
       "      <td>1 балкон</td>\n",
       "      <td>1970000</td>\n",
       "      <td>1-комн.</td>\n",
       "      <td>р-н Дзержинский</td>\n",
       "      <td>NaN</td>\n",
       "    </tr>\n",
       "    <tr>\n",
       "      <th>2</th>\n",
       "      <td>27</td>\n",
       "      <td>13.0</td>\n",
       "      <td>6</td>\n",
       "      <td>Вторичка</td>\n",
       "      <td>NaN</td>\n",
       "      <td>1 совмещенный</td>\n",
       "      <td>1 балкон</td>\n",
       "      <td>1595000</td>\n",
       "      <td>1-комн.</td>\n",
       "      <td>р-н Тракторозаводский</td>\n",
       "      <td>6.0</td>\n",
       "    </tr>\n",
       "    <tr>\n",
       "      <th>3</th>\n",
       "      <td>32</td>\n",
       "      <td>18.0</td>\n",
       "      <td>3</td>\n",
       "      <td>Вторичка</td>\n",
       "      <td>2,55 м</td>\n",
       "      <td>1 совмещенный</td>\n",
       "      <td>1 балкон</td>\n",
       "      <td>1600000</td>\n",
       "      <td>1-комн.</td>\n",
       "      <td>р-н Советский</td>\n",
       "      <td>6.0</td>\n",
       "    </tr>\n",
       "    <tr>\n",
       "      <th>4</th>\n",
       "      <td>23</td>\n",
       "      <td>17.0</td>\n",
       "      <td>1</td>\n",
       "      <td>Вторичка</td>\n",
       "      <td>NaN</td>\n",
       "      <td>1 совмещенный</td>\n",
       "      <td>1 балкон</td>\n",
       "      <td>1670000</td>\n",
       "      <td>1-комн.</td>\n",
       "      <td>р-н Дзержинский</td>\n",
       "      <td>NaN</td>\n",
       "    </tr>\n",
       "    <tr>\n",
       "      <th>5</th>\n",
       "      <td>32</td>\n",
       "      <td>18.0</td>\n",
       "      <td>2</td>\n",
       "      <td>Вторичка</td>\n",
       "      <td>2,55 м</td>\n",
       "      <td>1 совмещенный</td>\n",
       "      <td>1 балкон</td>\n",
       "      <td>1660000</td>\n",
       "      <td>1-комн.</td>\n",
       "      <td>р-н Краснооктябрьский</td>\n",
       "      <td>6.0</td>\n",
       "    </tr>\n",
       "  </tbody>\n",
       "</table>\n",
       "</div>"
      ],
      "text/plain": [
       "   Общая  Жилая  Этаж Тип жилья Высота потолков        Санузел Балкон/лоджия  \\\n",
       "1     41   30.0     2  Вторичка          2,75 м  1 совмещенный      1 балкон   \n",
       "2     27   13.0     6  Вторичка             NaN  1 совмещенный      1 балкон   \n",
       "3     32   18.0     3  Вторичка          2,55 м  1 совмещенный      1 балкон   \n",
       "4     23   17.0     1  Вторичка             NaN  1 совмещенный      1 балкон   \n",
       "5     32   18.0     2  Вторичка          2,55 м  1 совмещенный      1 балкон   \n",
       "\n",
       "      Цена   Комнат                  Район  Кухня  \n",
       "1  1970000  1-комн.        р-н Дзержинский    NaN  \n",
       "2  1595000  1-комн.  р-н Тракторозаводский    6.0  \n",
       "3  1600000  1-комн.          р-н Советский    6.0  \n",
       "4  1670000  1-комн.        р-н Дзержинский    NaN  \n",
       "5  1660000  1-комн.  р-н Краснооктябрьский    6.0  "
      ]
     },
     "execution_count": 73,
     "metadata": {},
     "output_type": "execute_result"
    }
   ],
   "source": [
    "data.head()"
   ]
  },
  {
   "cell_type": "code",
   "execution_count": 74,
   "metadata": {},
   "outputs": [],
   "source": [
    "# Количество комнат\n",
    "new = data['Комнат'].str.split('-', n = 1, expand = True)\n",
    "data[\"Комнат\"]= new[0]\n",
    "data['Комнат'] = data['Комнат'].astype(int) # меняем тип данных\n",
    "\n",
    "# Район\n",
    "new = data['Район'].str.split(' ', n = 1, expand = True)\n",
    "data[\"Район\"]= new[1]\n",
    "\n",
    "# Балкон/лоджия\n",
    "new = data['Балкон/лоджия'].str.split(' ', n = 1, expand = True)\n",
    "data['Балкон/лоджия'] = new[0]\n",
    "data['Балкон/лоджия'] = data['Балкон/лоджия'].fillna(0) # Кодировка: пропуски = 0 = нет балкона\n",
    "data['Балкон/лоджия'] = data['Балкон/лоджия'].astype(int) # меняем тип данных\n",
    "\n",
    "# Санузел\n",
    "new = data['Санузел'].str.split(' ', n = 1, expand = True)\n",
    "data['Санузел'] = new[1]\n",
    "\n",
    "# Из высоты потолков убрали единицу измерения\n",
    "new = data['Высота потолков'].str.split(' ', n = 1, expand = True)\n",
    "data['Высота потолков'] = new[0]\n",
    "data['Высота потолков'] = data['Высота потолков'].str.replace(',', '.').astype(float) # меняем str на числа с точкой"
   ]
  },
  {
   "cell_type": "code",
   "execution_count": 75,
   "metadata": {},
   "outputs": [
    {
     "data": {
      "text/html": [
       "<div>\n",
       "<style scoped>\n",
       "    .dataframe tbody tr th:only-of-type {\n",
       "        vertical-align: middle;\n",
       "    }\n",
       "\n",
       "    .dataframe tbody tr th {\n",
       "        vertical-align: top;\n",
       "    }\n",
       "\n",
       "    .dataframe thead th {\n",
       "        text-align: right;\n",
       "    }\n",
       "</style>\n",
       "<table border=\"1\" class=\"dataframe\">\n",
       "  <thead>\n",
       "    <tr style=\"text-align: right;\">\n",
       "      <th></th>\n",
       "      <th>Общая</th>\n",
       "      <th>Жилая</th>\n",
       "      <th>Этаж</th>\n",
       "      <th>Тип жилья</th>\n",
       "      <th>Высота потолков</th>\n",
       "      <th>Санузел</th>\n",
       "      <th>Балкон/лоджия</th>\n",
       "      <th>Цена</th>\n",
       "      <th>Комнат</th>\n",
       "      <th>Район</th>\n",
       "      <th>Кухня</th>\n",
       "    </tr>\n",
       "  </thead>\n",
       "  <tbody>\n",
       "    <tr>\n",
       "      <th>1</th>\n",
       "      <td>41</td>\n",
       "      <td>30.0</td>\n",
       "      <td>2</td>\n",
       "      <td>Вторичка</td>\n",
       "      <td>2.75</td>\n",
       "      <td>совмещенный</td>\n",
       "      <td>1</td>\n",
       "      <td>1970000</td>\n",
       "      <td>1</td>\n",
       "      <td>Дзержинский</td>\n",
       "      <td>NaN</td>\n",
       "    </tr>\n",
       "    <tr>\n",
       "      <th>2</th>\n",
       "      <td>27</td>\n",
       "      <td>13.0</td>\n",
       "      <td>6</td>\n",
       "      <td>Вторичка</td>\n",
       "      <td>NaN</td>\n",
       "      <td>совмещенный</td>\n",
       "      <td>1</td>\n",
       "      <td>1595000</td>\n",
       "      <td>1</td>\n",
       "      <td>Тракторозаводский</td>\n",
       "      <td>6.0</td>\n",
       "    </tr>\n",
       "    <tr>\n",
       "      <th>3</th>\n",
       "      <td>32</td>\n",
       "      <td>18.0</td>\n",
       "      <td>3</td>\n",
       "      <td>Вторичка</td>\n",
       "      <td>2.55</td>\n",
       "      <td>совмещенный</td>\n",
       "      <td>1</td>\n",
       "      <td>1600000</td>\n",
       "      <td>1</td>\n",
       "      <td>Советский</td>\n",
       "      <td>6.0</td>\n",
       "    </tr>\n",
       "    <tr>\n",
       "      <th>4</th>\n",
       "      <td>23</td>\n",
       "      <td>17.0</td>\n",
       "      <td>1</td>\n",
       "      <td>Вторичка</td>\n",
       "      <td>NaN</td>\n",
       "      <td>совмещенный</td>\n",
       "      <td>1</td>\n",
       "      <td>1670000</td>\n",
       "      <td>1</td>\n",
       "      <td>Дзержинский</td>\n",
       "      <td>NaN</td>\n",
       "    </tr>\n",
       "    <tr>\n",
       "      <th>5</th>\n",
       "      <td>32</td>\n",
       "      <td>18.0</td>\n",
       "      <td>2</td>\n",
       "      <td>Вторичка</td>\n",
       "      <td>2.55</td>\n",
       "      <td>совмещенный</td>\n",
       "      <td>1</td>\n",
       "      <td>1660000</td>\n",
       "      <td>1</td>\n",
       "      <td>Краснооктябрьский</td>\n",
       "      <td>6.0</td>\n",
       "    </tr>\n",
       "  </tbody>\n",
       "</table>\n",
       "</div>"
      ],
      "text/plain": [
       "   Общая  Жилая  Этаж Тип жилья  Высота потолков      Санузел  Балкон/лоджия  \\\n",
       "1     41   30.0     2  Вторичка             2.75  совмещенный              1   \n",
       "2     27   13.0     6  Вторичка              NaN  совмещенный              1   \n",
       "3     32   18.0     3  Вторичка             2.55  совмещенный              1   \n",
       "4     23   17.0     1  Вторичка              NaN  совмещенный              1   \n",
       "5     32   18.0     2  Вторичка             2.55  совмещенный              1   \n",
       "\n",
       "      Цена  Комнат              Район  Кухня  \n",
       "1  1970000       1        Дзержинский    NaN  \n",
       "2  1595000       1  Тракторозаводский    6.0  \n",
       "3  1600000       1          Советский    6.0  \n",
       "4  1670000       1        Дзержинский    NaN  \n",
       "5  1660000       1  Краснооктябрьский    6.0  "
      ]
     },
     "execution_count": 75,
     "metadata": {},
     "output_type": "execute_result"
    }
   ],
   "source": [
    "data.head()"
   ]
  },
  {
   "cell_type": "code",
   "execution_count": 76,
   "metadata": {},
   "outputs": [
    {
     "name": "stdout",
     "output_type": "stream",
     "text": [
      "<class 'pandas.core.frame.DataFrame'>\n",
      "Int64Index: 3894 entries, 1 to 1537\n",
      "Data columns (total 11 columns):\n",
      " #   Column           Non-Null Count  Dtype  \n",
      "---  ------           --------------  -----  \n",
      " 0   Общая            3894 non-null   int64  \n",
      " 1   Жилая            3674 non-null   float64\n",
      " 2   Этаж             3894 non-null   int64  \n",
      " 3   Тип жилья        3890 non-null   object \n",
      " 4   Высота потолков  2205 non-null   float64\n",
      " 5   Санузел          3528 non-null   object \n",
      " 6   Балкон/лоджия    3894 non-null   int64  \n",
      " 7   Цена             3894 non-null   int64  \n",
      " 8   Комнат           3894 non-null   int64  \n",
      " 9   Район            3894 non-null   object \n",
      " 10  Кухня            3684 non-null   float64\n",
      "dtypes: float64(3), int64(5), object(3)\n",
      "memory usage: 365.1+ KB\n"
     ]
    }
   ],
   "source": [
    "data.info()"
   ]
  },
  {
   "cell_type": "code",
   "execution_count": 77,
   "metadata": {},
   "outputs": [
    {
     "data": {
      "image/png": "[encoded data removed]",
      "text/plain": [
       "<Figure size 432x288 with 1 Axes>"
      ]
     },
     "metadata": {
      "needs_background": "light"
     },
     "output_type": "display_data"
    }
   ],
   "source": [
    "_ = sns.heatmap(data.isnull(),yticklabels=False,cbar=False, cmap=\"Blues\")"
   ]
  },
  {
   "cell_type": "code",
   "execution_count": 78,
   "metadata": {},
   "outputs": [
    {
     "name": "stdout",
     "output_type": "stream",
     "text": [
      " Missing in dataset \n",
      "\n",
      " Жилая               220\n",
      "Тип жилья             4\n",
      "Высота потолков    1689\n",
      "Санузел             366\n",
      "Кухня               210\n",
      "dtype: int64\n"
     ]
    }
   ],
   "source": [
    "# Посчитаем количество пропусков\n",
    "print(\" Missing in dataset\",\"\\n\\n\", data.isnull().sum().loc[data.isnull().sum() > 0])"
   ]
  },
  {
   "cell_type": "code",
   "execution_count": 80,
   "metadata": {},
   "outputs": [
    {
     "name": "stdout",
     "output_type": "stream",
     "text": [
      "Процент пропущенных значений по переменной жилая площадь:  0.06\n",
      "Процент пропущенных значений по переменной тип жилья:  0.001\n",
      "Процент пропущенных значений по переменной высота потолков:  0.43\n",
      "Процент пропущенных значений по переменной тип санузла:  0.09\n",
      "Процент пропущенных значений по переменной площадь кухни:  0.05\n"
     ]
    }
   ],
   "source": [
    "print('Процент пропущенных значений по переменной жилая площадь: ', \n",
    "      round(sum(data['Жилая'].isna())/data.shape[0], 2))\n",
    "print('Процент пропущенных значений по переменной тип жилья: ', \n",
    "      round(sum(data['Тип жилья'].isna())/data.shape[0], 3))\n",
    "print('Процент пропущенных значений по переменной высота потолков: ', \n",
    "      round(sum(data['Высота потолков'].isna())/data.shape[0], 2))\n",
    "print('Процент пропущенных значений по переменной тип санузла: ', \n",
    "      round(sum(data['Санузел'].isna())/data.shape[0], 2))\n",
    "print('Процент пропущенных значений по переменной площадь кухни: ', \n",
    "      round(sum(data['Кухня'].isna())/data.shape[0], 2))"
   ]
  },
  {
   "cell_type": "code",
   "execution_count": 14,
   "metadata": {},
   "outputs": [
    {
     "name": "stdout",
     "output_type": "stream",
     "text": [
      "2.6    440\n",
      "Name: Высота потолков, dtype: int64\n"
     ]
    }
   ],
   "source": [
    "# Обработаем пропущенные значения\n",
    "print(data['Высота потолков'].value_counts().head(1))\n",
    "# самым популярным, в тоже время минимальная характеристика\n",
    "data['Высота потолков'] = data['Высота потолков'].fillna(2.6)"
   ]
  },
  {
   "cell_type": "code",
   "execution_count": 15,
   "metadata": {},
   "outputs": [
    {
     "name": "stdout",
     "output_type": "stream",
     "text": [
      "Вторичка    3633\n",
      "Name: Тип жилья, dtype: int64\n"
     ]
    }
   ],
   "source": [
    "print(data['Тип жилья'].value_counts().head(1))\n",
    "data['Тип жилья'] = data['Тип жилья'].fillna('Вторичка') # вторичка превалирует"
   ]
  },
  {
   "cell_type": "code",
   "execution_count": 16,
   "metadata": {},
   "outputs": [
    {
     "name": "stdout",
     "output_type": "stream",
     "text": [
      "раздельный                   1829\n",
      "совмещенный                  1628\n",
      "совмещенный, 1 раздельный      34\n",
      "совмещенных                    25\n",
      "раздельных                      6\n",
      "совмещенный, 2 раздельных       2\n",
      "совмещенных, 1 раздельный       2\n",
      "совмещенных, 2 раздельных       2\n",
      "Name: Санузел, dtype: int64\n"
     ]
    }
   ],
   "source": [
    "print(data['Санузел'].value_counts())"
   ]
  },
  {
   "cell_type": "code",
   "execution_count": 17,
   "metadata": {},
   "outputs": [
    {
     "data": {
      "text/plain": [
       "Комнат  Санузел                  \n",
       "1       совмещенный                  673\n",
       "        раздельный                   134\n",
       "        совмещенный, 1 раздельный      1\n",
       "        совмещенных, 1 раздельный      1\n",
       "2       раздельный                   766\n",
       "        совмещенный                  584\n",
       "        совмещенный, 1 раздельный     17\n",
       "        совмещенных                    7\n",
       "        раздельных                     4\n",
       "        совмещенный, 2 раздельных      1\n",
       "3       раздельный                   929\n",
       "        совмещенный                  371\n",
       "        совмещенных                   18\n",
       "        совмещенный, 1 раздельный     16\n",
       "        раздельных                     2\n",
       "        совмещенных, 2 раздельных      2\n",
       "        совмещенный, 2 раздельных      1\n",
       "        совмещенных, 1 раздельный      1\n",
       "Name: Санузел, dtype: int64"
      ]
     },
     "execution_count": 17,
     "metadata": {},
     "output_type": "execute_result"
    }
   ],
   "source": [
    "# Заполним пропуски в возрасте наиболее популярным значением по количеству комнат\n",
    "data.groupby(['Комнат'])['Санузел'].value_counts()"
   ]
  },
  {
   "cell_type": "code",
   "execution_count": 18,
   "metadata": {},
   "outputs": [],
   "source": [
    "data['Санузел'] = data['Санузел'].fillna('совмещенный')"
   ]
  },
  {
   "cell_type": "code",
   "execution_count": 19,
   "metadata": {},
   "outputs": [
    {
     "data": {
      "text/plain": [
       "совмещенный                  1994\n",
       "раздельный                   1829\n",
       "совмещенный, 1 раздельный      34\n",
       "совмещенных                    25\n",
       "раздельных                      6\n",
       "совмещенный, 2 раздельных       2\n",
       "совмещенных, 1 раздельный       2\n",
       "совмещенных, 2 раздельных       2\n",
       "Name: Санузел, dtype: int64"
      ]
     },
     "execution_count": 19,
     "metadata": {},
     "output_type": "execute_result"
    }
   ],
   "source": [
    "data['Санузел'].value_counts()"
   ]
  },
  {
   "cell_type": "code",
   "execution_count": 20,
   "metadata": {},
   "outputs": [
    {
     "name": "stdout",
     "output_type": "stream",
     "text": [
      "совмещенный    1994\n",
      "раздельный     1829\n",
      "оба              71\n",
      "Name: Санузел, dtype: int64\n"
     ]
    }
   ],
   "source": [
    "data.loc[data['Санузел'] == 'совмещенных, 1 раздельный','Санузел'] = 'оба'\n",
    "data.loc[data['Санузел'] == 'совмещенный, 1 раздельный','Санузел'] = 'оба'\n",
    "data.loc[data['Санузел'] == 'совмещенный, 2 раздельных','Санузел'] = 'оба'\n",
    "data.loc[data['Санузел'] == 'совмещенных, 2 раздельных','Санузел'] = 'оба'\n",
    "data.loc[data['Санузел'] == 'совмещенных','Санузел'] = 'оба'\n",
    "data.loc[data['Санузел'] == 'раздельных','Санузел'] = 'оба'\n",
    "\n",
    "print(data['Санузел'].value_counts())"
   ]
  },
  {
   "cell_type": "code",
   "execution_count": 21,
   "metadata": {},
   "outputs": [],
   "source": [
    "# Выкидываем оба санузла\n",
    "data = data.loc[data['Санузел'] != 'оба']"
   ]
  },
  {
   "cell_type": "code",
   "execution_count": 22,
   "metadata": {},
   "outputs": [
    {
     "name": "stdout",
     "output_type": "stream",
     "text": [
      "совмещенный    1994\n",
      "раздельный     1829\n",
      "Name: Санузел, dtype: int64\n"
     ]
    }
   ],
   "source": [
    "print(data['Санузел'].value_counts())"
   ]
  },
  {
   "cell_type": "code",
   "execution_count": 23,
   "metadata": {},
   "outputs": [
    {
     "data": {
      "image/png": "[encoded data removed]",
      "text/plain": [
       "<Figure size 432x288 with 1 Axes>"
      ]
     },
     "metadata": {
      "needs_background": "light"
     },
     "output_type": "display_data"
    }
   ],
   "source": [
    "_ = sns.heatmap(data.isnull(),yticklabels=False,cbar=False, cmap=\"Blues\")"
   ]
  },
  {
   "cell_type": "code",
   "execution_count": 24,
   "metadata": {},
   "outputs": [
    {
     "name": "stdout",
     "output_type": "stream",
     "text": [
      "(3580, 11)\n"
     ]
    }
   ],
   "source": [
    "# Выкидываем пропуски по площади\n",
    "data = data.dropna(subset=['Жилая', 'Кухня']) # 246 наблюдений выкинули\n",
    "print(data.shape)"
   ]
  },
  {
   "cell_type": "code",
   "execution_count": 25,
   "metadata": {},
   "outputs": [
    {
     "data": {
      "text/plain": [
       "2.60     1872\n",
       "2.55      384\n",
       "2.75      310\n",
       "2.50      265\n",
       "3.00      261\n",
       "2.70      244\n",
       "2.80       69\n",
       "2.65       64\n",
       "2.90       28\n",
       "3.20       14\n",
       "2.95        8\n",
       "3.10        8\n",
       "2.85        7\n",
       "2.45        6\n",
       "3.50        6\n",
       "2.54        3\n",
       "1.00        3\n",
       "2.00        3\n",
       "3.05        3\n",
       "2.40        3\n",
       "3.15        2\n",
       "2.53        2\n",
       "9.80        1\n",
       "4.00        1\n",
       "2.52        1\n",
       "2.96        1\n",
       "2.63        1\n",
       "2.56        1\n",
       "2.30        1\n",
       "2.57        1\n",
       "2.82        1\n",
       "2.72        1\n",
       "3.40        1\n",
       "3.30        1\n",
       "3.70        1\n",
       "13.75       1\n",
       "2.68        1\n",
       "Name: Высота потолков, dtype: int64"
      ]
     },
     "execution_count": 25,
     "metadata": {},
     "output_type": "execute_result"
    }
   ],
   "source": [
    "data['Высота потолков'].value_counts()"
   ]
  },
  {
   "cell_type": "code",
   "execution_count": 26,
   "metadata": {},
   "outputs": [],
   "source": [
    "# Сохраняем данные\n",
    "# data.to_csv('data_graphs.csv', encoding=\"utf-8\")"
   ]
  },
  {
   "cell_type": "code",
   "execution_count": 27,
   "metadata": {},
   "outputs": [],
   "source": [
    "#далее удалим выброс с высотой потолка 13,75\n",
    "data.drop(data[data['Высота потолков'] == 13.75].index, inplace=True)\n",
    "data.drop(data[data['Высота потолков'] == 9.80].index, inplace=True)"
   ]
  },
  {
   "cell_type": "code",
   "execution_count": 28,
   "metadata": {},
   "outputs": [
    {
     "data": {
      "text/html": [
       "<div>\n",
       "<style scoped>\n",
       "    .dataframe tbody tr th:only-of-type {\n",
       "        vertical-align: middle;\n",
       "    }\n",
       "\n",
       "    .dataframe tbody tr th {\n",
       "        vertical-align: top;\n",
       "    }\n",
       "\n",
       "    .dataframe thead th {\n",
       "        text-align: right;\n",
       "    }\n",
       "</style>\n",
       "<table border=\"1\" class=\"dataframe\">\n",
       "  <thead>\n",
       "    <tr style=\"text-align: right;\">\n",
       "      <th></th>\n",
       "      <th>Общая</th>\n",
       "      <th>Жилая</th>\n",
       "      <th>Этаж</th>\n",
       "      <th>Тип жилья</th>\n",
       "      <th>Высота потолков</th>\n",
       "      <th>Санузел</th>\n",
       "      <th>Балкон/лоджия</th>\n",
       "      <th>Цена</th>\n",
       "      <th>Комнат</th>\n",
       "      <th>Район</th>\n",
       "      <th>Кухня</th>\n",
       "    </tr>\n",
       "  </thead>\n",
       "  <tbody>\n",
       "    <tr>\n",
       "      <th>2</th>\n",
       "      <td>27</td>\n",
       "      <td>13.0</td>\n",
       "      <td>6</td>\n",
       "      <td>Вторичка</td>\n",
       "      <td>2.60</td>\n",
       "      <td>совмещенный</td>\n",
       "      <td>1</td>\n",
       "      <td>1595000</td>\n",
       "      <td>1</td>\n",
       "      <td>Тракторозаводский</td>\n",
       "      <td>6.0</td>\n",
       "    </tr>\n",
       "    <tr>\n",
       "      <th>3</th>\n",
       "      <td>32</td>\n",
       "      <td>18.0</td>\n",
       "      <td>3</td>\n",
       "      <td>Вторичка</td>\n",
       "      <td>2.55</td>\n",
       "      <td>совмещенный</td>\n",
       "      <td>1</td>\n",
       "      <td>1600000</td>\n",
       "      <td>1</td>\n",
       "      <td>Советский</td>\n",
       "      <td>6.0</td>\n",
       "    </tr>\n",
       "    <tr>\n",
       "      <th>5</th>\n",
       "      <td>32</td>\n",
       "      <td>18.0</td>\n",
       "      <td>2</td>\n",
       "      <td>Вторичка</td>\n",
       "      <td>2.55</td>\n",
       "      <td>совмещенный</td>\n",
       "      <td>1</td>\n",
       "      <td>1660000</td>\n",
       "      <td>1</td>\n",
       "      <td>Краснооктябрьский</td>\n",
       "      <td>6.0</td>\n",
       "    </tr>\n",
       "    <tr>\n",
       "      <th>6</th>\n",
       "      <td>29</td>\n",
       "      <td>18.0</td>\n",
       "      <td>2</td>\n",
       "      <td>Вторичка</td>\n",
       "      <td>2.60</td>\n",
       "      <td>совмещенный</td>\n",
       "      <td>1</td>\n",
       "      <td>1440000</td>\n",
       "      <td>1</td>\n",
       "      <td>Дзержинский</td>\n",
       "      <td>6.0</td>\n",
       "    </tr>\n",
       "    <tr>\n",
       "      <th>7</th>\n",
       "      <td>62</td>\n",
       "      <td>19.0</td>\n",
       "      <td>12</td>\n",
       "      <td>Новостройка</td>\n",
       "      <td>2.60</td>\n",
       "      <td>совмещенный</td>\n",
       "      <td>1</td>\n",
       "      <td>2529400</td>\n",
       "      <td>1</td>\n",
       "      <td>Краснооктябрьский</td>\n",
       "      <td>12.0</td>\n",
       "    </tr>\n",
       "  </tbody>\n",
       "</table>\n",
       "</div>"
      ],
      "text/plain": [
       "   Общая  Жилая  Этаж    Тип жилья  Высота потолков      Санузел  \\\n",
       "2     27   13.0     6     Вторичка             2.60  совмещенный   \n",
       "3     32   18.0     3     Вторичка             2.55  совмещенный   \n",
       "5     32   18.0     2     Вторичка             2.55  совмещенный   \n",
       "6     29   18.0     2     Вторичка             2.60  совмещенный   \n",
       "7     62   19.0    12  Новостройка             2.60  совмещенный   \n",
       "\n",
       "   Балкон/лоджия     Цена  Комнат              Район  Кухня  \n",
       "2              1  1595000       1  Тракторозаводский    6.0  \n",
       "3              1  1600000       1          Советский    6.0  \n",
       "5              1  1660000       1  Краснооктябрьский    6.0  \n",
       "6              1  1440000       1        Дзержинский    6.0  \n",
       "7              1  2529400       1  Краснооктябрьский   12.0  "
      ]
     },
     "execution_count": 28,
     "metadata": {},
     "output_type": "execute_result"
    }
   ],
   "source": [
    "data.head()"
   ]
  },
  {
   "cell_type": "code",
   "execution_count": 29,
   "metadata": {},
   "outputs": [
    {
     "name": "stdout",
     "output_type": "stream",
     "text": [
      "<class 'pandas.core.frame.DataFrame'>\n",
      "Int64Index: 3574 entries, 2 to 1537\n",
      "Data columns (total 11 columns):\n",
      " #   Column           Non-Null Count  Dtype  \n",
      "---  ------           --------------  -----  \n",
      " 0   Общая            3574 non-null   int64  \n",
      " 1   Жилая            3574 non-null   float64\n",
      " 2   Этаж             3574 non-null   int64  \n",
      " 3   Тип жилья        3574 non-null   object \n",
      " 4   Высота потолков  3574 non-null   float64\n",
      " 5   Санузел          3574 non-null   object \n",
      " 6   Балкон/лоджия    3574 non-null   int64  \n",
      " 7   Цена             3574 non-null   int64  \n",
      " 8   Комнат           3574 non-null   int64  \n",
      " 9   Район            3574 non-null   object \n",
      " 10  Кухня            3574 non-null   float64\n",
      "dtypes: float64(3), int64(5), object(3)\n",
      "memory usage: 335.1+ KB\n"
     ]
    }
   ],
   "source": [
    "data.info() #итого 3574 наблюдений"
   ]
  },
  {
   "cell_type": "code",
   "execution_count": 30,
   "metadata": {},
   "outputs": [
    {
     "data": {
      "text/plain": [
       "array(['Вторичка', 'Новостройка', 'Вторичка Апартаменты'], dtype=object)"
      ]
     },
     "execution_count": 30,
     "metadata": {},
     "output_type": "execute_result"
    }
   ],
   "source": [
    "# Проверим уникальные значения для дальнейшего кодирования\n",
    "data[\"Тип жилья\"].unique()"
   ]
  },
  {
   "cell_type": "code",
   "execution_count": 31,
   "metadata": {},
   "outputs": [],
   "source": [
    "#'Вторичка Апартаменты' - выкидываем\n",
    "data = data.loc[data['Тип жилья'] != 'Вторичка Апартаменты']"
   ]
  },
  {
   "cell_type": "code",
   "execution_count": 32,
   "metadata": {},
   "outputs": [
    {
     "data": {
      "text/plain": [
       "array(['Вторичка', 'Новостройка'], dtype=object)"
      ]
     },
     "execution_count": 32,
     "metadata": {},
     "output_type": "execute_result"
    }
   ],
   "source": [
    "data[\"Тип жилья\"].unique()"
   ]
  },
  {
   "cell_type": "code",
   "execution_count": 33,
   "metadata": {},
   "outputs": [
    {
     "data": {
      "text/plain": [
       "Вторичка       3487\n",
       "Новостройка      83\n",
       "Name: Тип жилья, dtype: int64"
      ]
     },
     "execution_count": 33,
     "metadata": {},
     "output_type": "execute_result"
    }
   ],
   "source": [
    "data[\"Тип жилья\"].value_counts()"
   ]
  },
  {
   "cell_type": "code",
   "execution_count": 34,
   "metadata": {},
   "outputs": [
    {
     "data": {
      "text/plain": [
       "array(['Вторичка', 'Новостройка'], dtype=object)"
      ]
     },
     "execution_count": 34,
     "metadata": {},
     "output_type": "execute_result"
    }
   ],
   "source": [
    "data[\"Тип жилья\"].unique()"
   ]
  },
  {
   "cell_type": "code",
   "execution_count": 35,
   "metadata": {},
   "outputs": [
    {
     "data": {
      "text/plain": [
       "array(['совмещенный', 'раздельный'], dtype=object)"
      ]
     },
     "execution_count": 35,
     "metadata": {},
     "output_type": "execute_result"
    }
   ],
   "source": [
    "data[\"Санузел\"].unique()"
   ]
  },
  {
   "cell_type": "code",
   "execution_count": 36,
   "metadata": {},
   "outputs": [
    {
     "data": {
      "text/plain": [
       "array([1, 0, 2, 3])"
      ]
     },
     "execution_count": 36,
     "metadata": {},
     "output_type": "execute_result"
    }
   ],
   "source": [
    "data[\"Балкон/лоджия\"].unique()"
   ]
  },
  {
   "cell_type": "code",
   "execution_count": 37,
   "metadata": {},
   "outputs": [
    {
     "name": "stdout",
     "output_type": "stream",
     "text": [
      "1    2308\n",
      "0    1062\n",
      "2     184\n",
      "3      16\n",
      "Name: Балкон/лоджия, dtype: int64\n"
     ]
    }
   ],
   "source": [
    "print(data['Балкон/лоджия'].value_counts())"
   ]
  },
  {
   "cell_type": "code",
   "execution_count": 38,
   "metadata": {},
   "outputs": [],
   "source": [
    "# не важно 2 или 3 балкона, важно, что он есть\n",
    "data.loc[data['Балкон/лоджия'] == 2, 'Балкон/лоджия'] = 1\n",
    "data.loc[data['Балкон/лоджия'] == 3, 'Балкон/лоджия'] = 1"
   ]
  },
  {
   "cell_type": "code",
   "execution_count": 39,
   "metadata": {},
   "outputs": [
    {
     "name": "stdout",
     "output_type": "stream",
     "text": [
      "1    2508\n",
      "0    1062\n",
      "Name: Балкон/лоджия, dtype: int64\n"
     ]
    }
   ],
   "source": [
    "print(data['Балкон/лоджия'].value_counts())"
   ]
  },
  {
   "cell_type": "code",
   "execution_count": 40,
   "metadata": {},
   "outputs": [
    {
     "data": {
      "text/plain": [
       "array([1, 3, 2])"
      ]
     },
     "execution_count": 40,
     "metadata": {},
     "output_type": "execute_result"
    }
   ],
   "source": [
    "data[\"Комнат\"].unique()"
   ]
  },
  {
   "cell_type": "code",
   "execution_count": 41,
   "metadata": {},
   "outputs": [
    {
     "data": {
      "text/plain": [
       "array(['Тракторозаводский', 'Советский', 'Краснооктябрьский',\n",
       "       'Дзержинский', 'Красноармейский', 'Ворошиловский', 'Кировский',\n",
       "       'Центральный'], dtype=object)"
      ]
     },
     "execution_count": 41,
     "metadata": {},
     "output_type": "execute_result"
    }
   ],
   "source": [
    "data[\"Район\"].unique()"
   ]
  },
  {
   "cell_type": "code",
   "execution_count": 42,
   "metadata": {},
   "outputs": [
    {
     "name": "stdout",
     "output_type": "stream",
     "text": [
      "<class 'pandas.core.frame.DataFrame'>\n",
      "Int64Index: 3570 entries, 2 to 1537\n",
      "Data columns (total 11 columns):\n",
      " #   Column           Non-Null Count  Dtype  \n",
      "---  ------           --------------  -----  \n",
      " 0   Общая            3570 non-null   int64  \n",
      " 1   Жилая            3570 non-null   float64\n",
      " 2   Этаж             3570 non-null   int64  \n",
      " 3   Тип жилья        3570 non-null   object \n",
      " 4   Высота потолков  3570 non-null   float64\n",
      " 5   Санузел          3570 non-null   object \n",
      " 6   Балкон/лоджия    3570 non-null   int64  \n",
      " 7   Цена             3570 non-null   int64  \n",
      " 8   Комнат           3570 non-null   int64  \n",
      " 9   Район            3570 non-null   object \n",
      " 10  Кухня            3570 non-null   float64\n",
      "dtypes: float64(3), int64(5), object(3)\n",
      "memory usage: 334.7+ KB\n"
     ]
    }
   ],
   "source": [
    "data.info() # 3570 - ИТОГО наблюдений"
   ]
  },
  {
   "cell_type": "code",
   "execution_count": 43,
   "metadata": {},
   "outputs": [],
   "source": [
    "#ЗАКОДИРУЕМ ДАННЫЕ\n",
    "#Создадим дамми для каждого района\n",
    "dummies_region = pd.get_dummies(data['Район'])"
   ]
  },
  {
   "cell_type": "code",
   "execution_count": 44,
   "metadata": {},
   "outputs": [
    {
     "data": {
      "text/html": [
       "<div>\n",
       "<style scoped>\n",
       "    .dataframe tbody tr th:only-of-type {\n",
       "        vertical-align: middle;\n",
       "    }\n",
       "\n",
       "    .dataframe tbody tr th {\n",
       "        vertical-align: top;\n",
       "    }\n",
       "\n",
       "    .dataframe thead th {\n",
       "        text-align: right;\n",
       "    }\n",
       "</style>\n",
       "<table border=\"1\" class=\"dataframe\">\n",
       "  <thead>\n",
       "    <tr style=\"text-align: right;\">\n",
       "      <th></th>\n",
       "      <th>Ворошиловский</th>\n",
       "      <th>Дзержинский</th>\n",
       "      <th>Кировский</th>\n",
       "      <th>Красноармейский</th>\n",
       "      <th>Краснооктябрьский</th>\n",
       "      <th>Советский</th>\n",
       "      <th>Тракторозаводский</th>\n",
       "      <th>Центральный</th>\n",
       "    </tr>\n",
       "  </thead>\n",
       "  <tbody>\n",
       "    <tr>\n",
       "      <th>2</th>\n",
       "      <td>0</td>\n",
       "      <td>0</td>\n",
       "      <td>0</td>\n",
       "      <td>0</td>\n",
       "      <td>0</td>\n",
       "      <td>0</td>\n",
       "      <td>1</td>\n",
       "      <td>0</td>\n",
       "    </tr>\n",
       "    <tr>\n",
       "      <th>3</th>\n",
       "      <td>0</td>\n",
       "      <td>0</td>\n",
       "      <td>0</td>\n",
       "      <td>0</td>\n",
       "      <td>0</td>\n",
       "      <td>1</td>\n",
       "      <td>0</td>\n",
       "      <td>0</td>\n",
       "    </tr>\n",
       "    <tr>\n",
       "      <th>5</th>\n",
       "      <td>0</td>\n",
       "      <td>0</td>\n",
       "      <td>0</td>\n",
       "      <td>0</td>\n",
       "      <td>1</td>\n",
       "      <td>0</td>\n",
       "      <td>0</td>\n",
       "      <td>0</td>\n",
       "    </tr>\n",
       "    <tr>\n",
       "      <th>6</th>\n",
       "      <td>0</td>\n",
       "      <td>1</td>\n",
       "      <td>0</td>\n",
       "      <td>0</td>\n",
       "      <td>0</td>\n",
       "      <td>0</td>\n",
       "      <td>0</td>\n",
       "      <td>0</td>\n",
       "    </tr>\n",
       "    <tr>\n",
       "      <th>7</th>\n",
       "      <td>0</td>\n",
       "      <td>0</td>\n",
       "      <td>0</td>\n",
       "      <td>0</td>\n",
       "      <td>1</td>\n",
       "      <td>0</td>\n",
       "      <td>0</td>\n",
       "      <td>0</td>\n",
       "    </tr>\n",
       "  </tbody>\n",
       "</table>\n",
       "</div>"
      ],
      "text/plain": [
       "   Ворошиловский  Дзержинский  Кировский  Красноармейский  Краснооктябрьский  \\\n",
       "2              0            0          0                0                  0   \n",
       "3              0            0          0                0                  0   \n",
       "5              0            0          0                0                  1   \n",
       "6              0            1          0                0                  0   \n",
       "7              0            0          0                0                  1   \n",
       "\n",
       "   Советский  Тракторозаводский  Центральный  \n",
       "2          0                  1            0  \n",
       "3          1                  0            0  \n",
       "5          0                  0            0  \n",
       "6          0                  0            0  \n",
       "7          0                  0            0  "
      ]
     },
     "execution_count": 44,
     "metadata": {},
     "output_type": "execute_result"
    }
   ],
   "source": [
    "dummies_region.head()"
   ]
  },
  {
   "cell_type": "code",
   "execution_count": 45,
   "metadata": {},
   "outputs": [],
   "source": [
    "data = pd.concat([data, dummies_region], axis=1)"
   ]
  },
  {
   "cell_type": "code",
   "execution_count": 46,
   "metadata": {},
   "outputs": [],
   "source": [
    "data = data.drop(['Район'], axis=1)"
   ]
  },
  {
   "cell_type": "code",
   "execution_count": 47,
   "metadata": {},
   "outputs": [
    {
     "data": {
      "text/html": [
       "<div>\n",
       "<style scoped>\n",
       "    .dataframe tbody tr th:only-of-type {\n",
       "        vertical-align: middle;\n",
       "    }\n",
       "\n",
       "    .dataframe tbody tr th {\n",
       "        vertical-align: top;\n",
       "    }\n",
       "\n",
       "    .dataframe thead th {\n",
       "        text-align: right;\n",
       "    }\n",
       "</style>\n",
       "<table border=\"1\" class=\"dataframe\">\n",
       "  <thead>\n",
       "    <tr style=\"text-align: right;\">\n",
       "      <th></th>\n",
       "      <th>Общая</th>\n",
       "      <th>Жилая</th>\n",
       "      <th>Этаж</th>\n",
       "      <th>Тип жилья</th>\n",
       "      <th>Высота потолков</th>\n",
       "      <th>Санузел</th>\n",
       "      <th>Балкон/лоджия</th>\n",
       "      <th>Цена</th>\n",
       "      <th>Комнат</th>\n",
       "      <th>Кухня</th>\n",
       "      <th>Ворошиловский</th>\n",
       "      <th>Дзержинский</th>\n",
       "      <th>Кировский</th>\n",
       "      <th>Красноармейский</th>\n",
       "      <th>Краснооктябрьский</th>\n",
       "      <th>Советский</th>\n",
       "      <th>Тракторозаводский</th>\n",
       "      <th>Центральный</th>\n",
       "    </tr>\n",
       "  </thead>\n",
       "  <tbody>\n",
       "    <tr>\n",
       "      <th>2</th>\n",
       "      <td>27</td>\n",
       "      <td>13.0</td>\n",
       "      <td>6</td>\n",
       "      <td>Вторичка</td>\n",
       "      <td>2.60</td>\n",
       "      <td>совмещенный</td>\n",
       "      <td>1</td>\n",
       "      <td>1595000</td>\n",
       "      <td>1</td>\n",
       "      <td>6.0</td>\n",
       "      <td>0</td>\n",
       "      <td>0</td>\n",
       "      <td>0</td>\n",
       "      <td>0</td>\n",
       "      <td>0</td>\n",
       "      <td>0</td>\n",
       "      <td>1</td>\n",
       "      <td>0</td>\n",
       "    </tr>\n",
       "    <tr>\n",
       "      <th>3</th>\n",
       "      <td>32</td>\n",
       "      <td>18.0</td>\n",
       "      <td>3</td>\n",
       "      <td>Вторичка</td>\n",
       "      <td>2.55</td>\n",
       "      <td>совмещенный</td>\n",
       "      <td>1</td>\n",
       "      <td>1600000</td>\n",
       "      <td>1</td>\n",
       "      <td>6.0</td>\n",
       "      <td>0</td>\n",
       "      <td>0</td>\n",
       "      <td>0</td>\n",
       "      <td>0</td>\n",
       "      <td>0</td>\n",
       "      <td>1</td>\n",
       "      <td>0</td>\n",
       "      <td>0</td>\n",
       "    </tr>\n",
       "    <tr>\n",
       "      <th>5</th>\n",
       "      <td>32</td>\n",
       "      <td>18.0</td>\n",
       "      <td>2</td>\n",
       "      <td>Вторичка</td>\n",
       "      <td>2.55</td>\n",
       "      <td>совмещенный</td>\n",
       "      <td>1</td>\n",
       "      <td>1660000</td>\n",
       "      <td>1</td>\n",
       "      <td>6.0</td>\n",
       "      <td>0</td>\n",
       "      <td>0</td>\n",
       "      <td>0</td>\n",
       "      <td>0</td>\n",
       "      <td>1</td>\n",
       "      <td>0</td>\n",
       "      <td>0</td>\n",
       "      <td>0</td>\n",
       "    </tr>\n",
       "    <tr>\n",
       "      <th>6</th>\n",
       "      <td>29</td>\n",
       "      <td>18.0</td>\n",
       "      <td>2</td>\n",
       "      <td>Вторичка</td>\n",
       "      <td>2.60</td>\n",
       "      <td>совмещенный</td>\n",
       "      <td>1</td>\n",
       "      <td>1440000</td>\n",
       "      <td>1</td>\n",
       "      <td>6.0</td>\n",
       "      <td>0</td>\n",
       "      <td>1</td>\n",
       "      <td>0</td>\n",
       "      <td>0</td>\n",
       "      <td>0</td>\n",
       "      <td>0</td>\n",
       "      <td>0</td>\n",
       "      <td>0</td>\n",
       "    </tr>\n",
       "    <tr>\n",
       "      <th>7</th>\n",
       "      <td>62</td>\n",
       "      <td>19.0</td>\n",
       "      <td>12</td>\n",
       "      <td>Новостройка</td>\n",
       "      <td>2.60</td>\n",
       "      <td>совмещенный</td>\n",
       "      <td>1</td>\n",
       "      <td>2529400</td>\n",
       "      <td>1</td>\n",
       "      <td>12.0</td>\n",
       "      <td>0</td>\n",
       "      <td>0</td>\n",
       "      <td>0</td>\n",
       "      <td>0</td>\n",
       "      <td>1</td>\n",
       "      <td>0</td>\n",
       "      <td>0</td>\n",
       "      <td>0</td>\n",
       "    </tr>\n",
       "  </tbody>\n",
       "</table>\n",
       "</div>"
      ],
      "text/plain": [
       "   Общая  Жилая  Этаж    Тип жилья  Высота потолков      Санузел  \\\n",
       "2     27   13.0     6     Вторичка             2.60  совмещенный   \n",
       "3     32   18.0     3     Вторичка             2.55  совмещенный   \n",
       "5     32   18.0     2     Вторичка             2.55  совмещенный   \n",
       "6     29   18.0     2     Вторичка             2.60  совмещенный   \n",
       "7     62   19.0    12  Новостройка             2.60  совмещенный   \n",
       "\n",
       "   Балкон/лоджия     Цена  Комнат  Кухня  Ворошиловский  Дзержинский  \\\n",
       "2              1  1595000       1    6.0              0            0   \n",
       "3              1  1600000       1    6.0              0            0   \n",
       "5              1  1660000       1    6.0              0            0   \n",
       "6              1  1440000       1    6.0              0            1   \n",
       "7              1  2529400       1   12.0              0            0   \n",
       "\n",
       "   Кировский  Красноармейский  Краснооктябрьский  Советский  \\\n",
       "2          0                0                  0          0   \n",
       "3          0                0                  0          1   \n",
       "5          0                0                  1          0   \n",
       "6          0                0                  0          0   \n",
       "7          0                0                  1          0   \n",
       "\n",
       "   Тракторозаводский  Центральный  \n",
       "2                  1            0  \n",
       "3                  0            0  \n",
       "5                  0            0  \n",
       "6                  0            0  \n",
       "7                  0            0  "
      ]
     },
     "execution_count": 47,
     "metadata": {},
     "output_type": "execute_result"
    }
   ],
   "source": [
    "data.head() #создалось 8 фиктивных переменных для каждого района. ЗА БАЗОВЫЙ ВОЗЬМЕМ ЦЕНТРАЛЬНЫЙ!!!!"
   ]
  },
  {
   "cell_type": "code",
   "execution_count": 48,
   "metadata": {},
   "outputs": [],
   "source": [
    "#закодируем санузел. 0 - раздельный, 1 - совмещенный. БАЗОВАЯ СИТУАЦИЯ - РАЗДЕЛЬНЫЙ\n",
    "label = LabelEncoder()\n",
    "dicts = {}\n",
    "\n",
    "label.fit(data.Санузел.drop_duplicates()) #задаем список значений для кодирования\n",
    "dicts['Санузел'] = list(label.classes_)\n",
    "data.Санузел = label.transform(data.Санузел) #заменяем значения из списка кодами закодированных элементов"
   ]
  },
  {
   "cell_type": "code",
   "execution_count": 49,
   "metadata": {},
   "outputs": [
    {
     "data": {
      "text/html": [
       "<div>\n",
       "<style scoped>\n",
       "    .dataframe tbody tr th:only-of-type {\n",
       "        vertical-align: middle;\n",
       "    }\n",
       "\n",
       "    .dataframe tbody tr th {\n",
       "        vertical-align: top;\n",
       "    }\n",
       "\n",
       "    .dataframe thead th {\n",
       "        text-align: right;\n",
       "    }\n",
       "</style>\n",
       "<table border=\"1\" class=\"dataframe\">\n",
       "  <thead>\n",
       "    <tr style=\"text-align: right;\">\n",
       "      <th></th>\n",
       "      <th>Общая</th>\n",
       "      <th>Жилая</th>\n",
       "      <th>Этаж</th>\n",
       "      <th>Тип жилья</th>\n",
       "      <th>Высота потолков</th>\n",
       "      <th>Санузел</th>\n",
       "      <th>Балкон/лоджия</th>\n",
       "      <th>Цена</th>\n",
       "      <th>Комнат</th>\n",
       "      <th>Кухня</th>\n",
       "      <th>Ворошиловский</th>\n",
       "      <th>Дзержинский</th>\n",
       "      <th>Кировский</th>\n",
       "      <th>Красноармейский</th>\n",
       "      <th>Краснооктябрьский</th>\n",
       "      <th>Советский</th>\n",
       "      <th>Тракторозаводский</th>\n",
       "      <th>Центральный</th>\n",
       "    </tr>\n",
       "  </thead>\n",
       "  <tbody>\n",
       "    <tr>\n",
       "      <th>2</th>\n",
       "      <td>27</td>\n",
       "      <td>13.0</td>\n",
       "      <td>6</td>\n",
       "      <td>Вторичка</td>\n",
       "      <td>2.60</td>\n",
       "      <td>1</td>\n",
       "      <td>1</td>\n",
       "      <td>1595000</td>\n",
       "      <td>1</td>\n",
       "      <td>6.0</td>\n",
       "      <td>0</td>\n",
       "      <td>0</td>\n",
       "      <td>0</td>\n",
       "      <td>0</td>\n",
       "      <td>0</td>\n",
       "      <td>0</td>\n",
       "      <td>1</td>\n",
       "      <td>0</td>\n",
       "    </tr>\n",
       "    <tr>\n",
       "      <th>3</th>\n",
       "      <td>32</td>\n",
       "      <td>18.0</td>\n",
       "      <td>3</td>\n",
       "      <td>Вторичка</td>\n",
       "      <td>2.55</td>\n",
       "      <td>1</td>\n",
       "      <td>1</td>\n",
       "      <td>1600000</td>\n",
       "      <td>1</td>\n",
       "      <td>6.0</td>\n",
       "      <td>0</td>\n",
       "      <td>0</td>\n",
       "      <td>0</td>\n",
       "      <td>0</td>\n",
       "      <td>0</td>\n",
       "      <td>1</td>\n",
       "      <td>0</td>\n",
       "      <td>0</td>\n",
       "    </tr>\n",
       "    <tr>\n",
       "      <th>5</th>\n",
       "      <td>32</td>\n",
       "      <td>18.0</td>\n",
       "      <td>2</td>\n",
       "      <td>Вторичка</td>\n",
       "      <td>2.55</td>\n",
       "      <td>1</td>\n",
       "      <td>1</td>\n",
       "      <td>1660000</td>\n",
       "      <td>1</td>\n",
       "      <td>6.0</td>\n",
       "      <td>0</td>\n",
       "      <td>0</td>\n",
       "      <td>0</td>\n",
       "      <td>0</td>\n",
       "      <td>1</td>\n",
       "      <td>0</td>\n",
       "      <td>0</td>\n",
       "      <td>0</td>\n",
       "    </tr>\n",
       "    <tr>\n",
       "      <th>6</th>\n",
       "      <td>29</td>\n",
       "      <td>18.0</td>\n",
       "      <td>2</td>\n",
       "      <td>Вторичка</td>\n",
       "      <td>2.60</td>\n",
       "      <td>1</td>\n",
       "      <td>1</td>\n",
       "      <td>1440000</td>\n",
       "      <td>1</td>\n",
       "      <td>6.0</td>\n",
       "      <td>0</td>\n",
       "      <td>1</td>\n",
       "      <td>0</td>\n",
       "      <td>0</td>\n",
       "      <td>0</td>\n",
       "      <td>0</td>\n",
       "      <td>0</td>\n",
       "      <td>0</td>\n",
       "    </tr>\n",
       "    <tr>\n",
       "      <th>7</th>\n",
       "      <td>62</td>\n",
       "      <td>19.0</td>\n",
       "      <td>12</td>\n",
       "      <td>Новостройка</td>\n",
       "      <td>2.60</td>\n",
       "      <td>1</td>\n",
       "      <td>1</td>\n",
       "      <td>2529400</td>\n",
       "      <td>1</td>\n",
       "      <td>12.0</td>\n",
       "      <td>0</td>\n",
       "      <td>0</td>\n",
       "      <td>0</td>\n",
       "      <td>0</td>\n",
       "      <td>1</td>\n",
       "      <td>0</td>\n",
       "      <td>0</td>\n",
       "      <td>0</td>\n",
       "    </tr>\n",
       "  </tbody>\n",
       "</table>\n",
       "</div>"
      ],
      "text/plain": [
       "   Общая  Жилая  Этаж    Тип жилья  Высота потолков  Санузел  Балкон/лоджия  \\\n",
       "2     27   13.0     6     Вторичка             2.60        1              1   \n",
       "3     32   18.0     3     Вторичка             2.55        1              1   \n",
       "5     32   18.0     2     Вторичка             2.55        1              1   \n",
       "6     29   18.0     2     Вторичка             2.60        1              1   \n",
       "7     62   19.0    12  Новостройка             2.60        1              1   \n",
       "\n",
       "      Цена  Комнат  Кухня  Ворошиловский  Дзержинский  Кировский  \\\n",
       "2  1595000       1    6.0              0            0          0   \n",
       "3  1600000       1    6.0              0            0          0   \n",
       "5  1660000       1    6.0              0            0          0   \n",
       "6  1440000       1    6.0              0            1          0   \n",
       "7  2529400       1   12.0              0            0          0   \n",
       "\n",
       "   Красноармейский  Краснооктябрьский  Советский  Тракторозаводский  \\\n",
       "2                0                  0          0                  1   \n",
       "3                0                  0          1                  0   \n",
       "5                0                  1          0                  0   \n",
       "6                0                  0          0                  0   \n",
       "7                0                  1          0                  0   \n",
       "\n",
       "   Центральный  \n",
       "2            0  \n",
       "3            0  \n",
       "5            0  \n",
       "6            0  \n",
       "7            0  "
      ]
     },
     "execution_count": 49,
     "metadata": {},
     "output_type": "execute_result"
    }
   ],
   "source": [
    "data.head()"
   ]
  },
  {
   "cell_type": "code",
   "execution_count": 50,
   "metadata": {},
   "outputs": [],
   "source": [
    "# Закодируем тип жилья\n",
    "# Создадим дамми для каждого жилья\n",
    "dummies_type = pd.get_dummies(data['Тип жилья'])"
   ]
  },
  {
   "cell_type": "code",
   "execution_count": 51,
   "metadata": {},
   "outputs": [
    {
     "data": {
      "text/html": [
       "<div>\n",
       "<style scoped>\n",
       "    .dataframe tbody tr th:only-of-type {\n",
       "        vertical-align: middle;\n",
       "    }\n",
       "\n",
       "    .dataframe tbody tr th {\n",
       "        vertical-align: top;\n",
       "    }\n",
       "\n",
       "    .dataframe thead th {\n",
       "        text-align: right;\n",
       "    }\n",
       "</style>\n",
       "<table border=\"1\" class=\"dataframe\">\n",
       "  <thead>\n",
       "    <tr style=\"text-align: right;\">\n",
       "      <th></th>\n",
       "      <th>Вторичка</th>\n",
       "      <th>Новостройка</th>\n",
       "    </tr>\n",
       "  </thead>\n",
       "  <tbody>\n",
       "    <tr>\n",
       "      <th>2</th>\n",
       "      <td>1</td>\n",
       "      <td>0</td>\n",
       "    </tr>\n",
       "    <tr>\n",
       "      <th>3</th>\n",
       "      <td>1</td>\n",
       "      <td>0</td>\n",
       "    </tr>\n",
       "    <tr>\n",
       "      <th>5</th>\n",
       "      <td>1</td>\n",
       "      <td>0</td>\n",
       "    </tr>\n",
       "    <tr>\n",
       "      <th>6</th>\n",
       "      <td>1</td>\n",
       "      <td>0</td>\n",
       "    </tr>\n",
       "    <tr>\n",
       "      <th>7</th>\n",
       "      <td>0</td>\n",
       "      <td>1</td>\n",
       "    </tr>\n",
       "  </tbody>\n",
       "</table>\n",
       "</div>"
      ],
      "text/plain": [
       "   Вторичка  Новостройка\n",
       "2         1            0\n",
       "3         1            0\n",
       "5         1            0\n",
       "6         1            0\n",
       "7         0            1"
      ]
     },
     "execution_count": 51,
     "metadata": {},
     "output_type": "execute_result"
    }
   ],
   "source": [
    "dummies_type.head()"
   ]
  },
  {
   "cell_type": "code",
   "execution_count": 52,
   "metadata": {},
   "outputs": [],
   "source": [
    "data = pd.concat([data, dummies_type], axis=1)"
   ]
  },
  {
   "cell_type": "code",
   "execution_count": 53,
   "metadata": {},
   "outputs": [],
   "source": [
    "data = data.drop(['Тип жилья'], axis=1)"
   ]
  },
  {
   "cell_type": "code",
   "execution_count": 54,
   "metadata": {},
   "outputs": [],
   "source": [
    "data = data.drop(['Новостройка'], axis=1) #БАЗОВАЯ СИТУАЦИЯ - НОВОСТРОЙКА"
   ]
  },
  {
   "cell_type": "code",
   "execution_count": 55,
   "metadata": {},
   "outputs": [],
   "source": [
    "data = data.drop(['Центральный'], axis=1) #БАЗОВАЯ СИТУАЦИЯ - ЦЕНТРАЛЬНЫЙ"
   ]
  },
  {
   "cell_type": "code",
   "execution_count": 56,
   "metadata": {},
   "outputs": [],
   "source": [
    "# Создадим дамми для комнат\n",
    "dummies_room = pd.get_dummies(data['Комнат'])"
   ]
  },
  {
   "cell_type": "code",
   "execution_count": 57,
   "metadata": {},
   "outputs": [
    {
     "data": {
      "text/html": [
       "<div>\n",
       "<style scoped>\n",
       "    .dataframe tbody tr th:only-of-type {\n",
       "        vertical-align: middle;\n",
       "    }\n",
       "\n",
       "    .dataframe tbody tr th {\n",
       "        vertical-align: top;\n",
       "    }\n",
       "\n",
       "    .dataframe thead th {\n",
       "        text-align: right;\n",
       "    }\n",
       "</style>\n",
       "<table border=\"1\" class=\"dataframe\">\n",
       "  <thead>\n",
       "    <tr style=\"text-align: right;\">\n",
       "      <th></th>\n",
       "      <th>1</th>\n",
       "      <th>2</th>\n",
       "      <th>3</th>\n",
       "    </tr>\n",
       "  </thead>\n",
       "  <tbody>\n",
       "    <tr>\n",
       "      <th>2</th>\n",
       "      <td>1</td>\n",
       "      <td>0</td>\n",
       "      <td>0</td>\n",
       "    </tr>\n",
       "    <tr>\n",
       "      <th>3</th>\n",
       "      <td>1</td>\n",
       "      <td>0</td>\n",
       "      <td>0</td>\n",
       "    </tr>\n",
       "    <tr>\n",
       "      <th>5</th>\n",
       "      <td>1</td>\n",
       "      <td>0</td>\n",
       "      <td>0</td>\n",
       "    </tr>\n",
       "    <tr>\n",
       "      <th>6</th>\n",
       "      <td>1</td>\n",
       "      <td>0</td>\n",
       "      <td>0</td>\n",
       "    </tr>\n",
       "    <tr>\n",
       "      <th>7</th>\n",
       "      <td>1</td>\n",
       "      <td>0</td>\n",
       "      <td>0</td>\n",
       "    </tr>\n",
       "  </tbody>\n",
       "</table>\n",
       "</div>"
      ],
      "text/plain": [
       "   1  2  3\n",
       "2  1  0  0\n",
       "3  1  0  0\n",
       "5  1  0  0\n",
       "6  1  0  0\n",
       "7  1  0  0"
      ]
     },
     "execution_count": 57,
     "metadata": {},
     "output_type": "execute_result"
    }
   ],
   "source": [
    "dummies_room.head()"
   ]
  },
  {
   "cell_type": "code",
   "execution_count": 58,
   "metadata": {},
   "outputs": [],
   "source": [
    "data = pd.concat([data, dummies_room], axis=1)"
   ]
  },
  {
   "cell_type": "code",
   "execution_count": 59,
   "metadata": {},
   "outputs": [],
   "source": [
    "data = data.drop(['Комнат'], axis=1)"
   ]
  },
  {
   "cell_type": "code",
   "execution_count": 60,
   "metadata": {},
   "outputs": [],
   "source": [
    "data['Комната1'] = data[1]\n",
    "data['Комната2'] = data[2]\n",
    "data['Комната3'] = data[3]"
   ]
  },
  {
   "cell_type": "code",
   "execution_count": 61,
   "metadata": {},
   "outputs": [],
   "source": [
    "data = data.drop(['Комната1'], axis=1) ### Комната1 - базовая\n",
    "data = data.drop([1], axis=1)\n",
    "data = data.drop([2], axis=1)\n",
    "data = data.drop([3], axis=1)"
   ]
  },
  {
   "cell_type": "code",
   "execution_count": 62,
   "metadata": {},
   "outputs": [
    {
     "data": {
      "text/html": [
       "<div>\n",
       "<style scoped>\n",
       "    .dataframe tbody tr th:only-of-type {\n",
       "        vertical-align: middle;\n",
       "    }\n",
       "\n",
       "    .dataframe tbody tr th {\n",
       "        vertical-align: top;\n",
       "    }\n",
       "\n",
       "    .dataframe thead th {\n",
       "        text-align: right;\n",
       "    }\n",
       "</style>\n",
       "<table border=\"1\" class=\"dataframe\">\n",
       "  <thead>\n",
       "    <tr style=\"text-align: right;\">\n",
       "      <th></th>\n",
       "      <th>Общая</th>\n",
       "      <th>Жилая</th>\n",
       "      <th>Этаж</th>\n",
       "      <th>Высота потолков</th>\n",
       "      <th>Санузел</th>\n",
       "      <th>Балкон/лоджия</th>\n",
       "      <th>Цена</th>\n",
       "      <th>Кухня</th>\n",
       "      <th>Ворошиловский</th>\n",
       "      <th>Дзержинский</th>\n",
       "      <th>Кировский</th>\n",
       "      <th>Красноармейский</th>\n",
       "      <th>Краснооктябрьский</th>\n",
       "      <th>Советский</th>\n",
       "      <th>Тракторозаводский</th>\n",
       "      <th>Вторичка</th>\n",
       "      <th>Комната2</th>\n",
       "      <th>Комната3</th>\n",
       "    </tr>\n",
       "  </thead>\n",
       "  <tbody>\n",
       "    <tr>\n",
       "      <th>2</th>\n",
       "      <td>27</td>\n",
       "      <td>13.0</td>\n",
       "      <td>6</td>\n",
       "      <td>2.60</td>\n",
       "      <td>1</td>\n",
       "      <td>1</td>\n",
       "      <td>1595000</td>\n",
       "      <td>6.0</td>\n",
       "      <td>0</td>\n",
       "      <td>0</td>\n",
       "      <td>0</td>\n",
       "      <td>0</td>\n",
       "      <td>0</td>\n",
       "      <td>0</td>\n",
       "      <td>1</td>\n",
       "      <td>1</td>\n",
       "      <td>0</td>\n",
       "      <td>0</td>\n",
       "    </tr>\n",
       "    <tr>\n",
       "      <th>3</th>\n",
       "      <td>32</td>\n",
       "      <td>18.0</td>\n",
       "      <td>3</td>\n",
       "      <td>2.55</td>\n",
       "      <td>1</td>\n",
       "      <td>1</td>\n",
       "      <td>1600000</td>\n",
       "      <td>6.0</td>\n",
       "      <td>0</td>\n",
       "      <td>0</td>\n",
       "      <td>0</td>\n",
       "      <td>0</td>\n",
       "      <td>0</td>\n",
       "      <td>1</td>\n",
       "      <td>0</td>\n",
       "      <td>1</td>\n",
       "      <td>0</td>\n",
       "      <td>0</td>\n",
       "    </tr>\n",
       "    <tr>\n",
       "      <th>5</th>\n",
       "      <td>32</td>\n",
       "      <td>18.0</td>\n",
       "      <td>2</td>\n",
       "      <td>2.55</td>\n",
       "      <td>1</td>\n",
       "      <td>1</td>\n",
       "      <td>1660000</td>\n",
       "      <td>6.0</td>\n",
       "      <td>0</td>\n",
       "      <td>0</td>\n",
       "      <td>0</td>\n",
       "      <td>0</td>\n",
       "      <td>1</td>\n",
       "      <td>0</td>\n",
       "      <td>0</td>\n",
       "      <td>1</td>\n",
       "      <td>0</td>\n",
       "      <td>0</td>\n",
       "    </tr>\n",
       "    <tr>\n",
       "      <th>6</th>\n",
       "      <td>29</td>\n",
       "      <td>18.0</td>\n",
       "      <td>2</td>\n",
       "      <td>2.60</td>\n",
       "      <td>1</td>\n",
       "      <td>1</td>\n",
       "      <td>1440000</td>\n",
       "      <td>6.0</td>\n",
       "      <td>0</td>\n",
       "      <td>1</td>\n",
       "      <td>0</td>\n",
       "      <td>0</td>\n",
       "      <td>0</td>\n",
       "      <td>0</td>\n",
       "      <td>0</td>\n",
       "      <td>1</td>\n",
       "      <td>0</td>\n",
       "      <td>0</td>\n",
       "    </tr>\n",
       "    <tr>\n",
       "      <th>7</th>\n",
       "      <td>62</td>\n",
       "      <td>19.0</td>\n",
       "      <td>12</td>\n",
       "      <td>2.60</td>\n",
       "      <td>1</td>\n",
       "      <td>1</td>\n",
       "      <td>2529400</td>\n",
       "      <td>12.0</td>\n",
       "      <td>0</td>\n",
       "      <td>0</td>\n",
       "      <td>0</td>\n",
       "      <td>0</td>\n",
       "      <td>1</td>\n",
       "      <td>0</td>\n",
       "      <td>0</td>\n",
       "      <td>0</td>\n",
       "      <td>0</td>\n",
       "      <td>0</td>\n",
       "    </tr>\n",
       "  </tbody>\n",
       "</table>\n",
       "</div>"
      ],
      "text/plain": [
       "   Общая  Жилая  Этаж  Высота потолков  Санузел  Балкон/лоджия     Цена  \\\n",
       "2     27   13.0     6             2.60        1              1  1595000   \n",
       "3     32   18.0     3             2.55        1              1  1600000   \n",
       "5     32   18.0     2             2.55        1              1  1660000   \n",
       "6     29   18.0     2             2.60        1              1  1440000   \n",
       "7     62   19.0    12             2.60        1              1  2529400   \n",
       "\n",
       "   Кухня  Ворошиловский  Дзержинский  Кировский  Красноармейский  \\\n",
       "2    6.0              0            0          0                0   \n",
       "3    6.0              0            0          0                0   \n",
       "5    6.0              0            0          0                0   \n",
       "6    6.0              0            1          0                0   \n",
       "7   12.0              0            0          0                0   \n",
       "\n",
       "   Краснооктябрьский  Советский  Тракторозаводский  Вторичка  Комната2  \\\n",
       "2                  0          0                  1         1         0   \n",
       "3                  0          1                  0         1         0   \n",
       "5                  1          0                  0         1         0   \n",
       "6                  0          0                  0         1         0   \n",
       "7                  1          0                  0         0         0   \n",
       "\n",
       "   Комната3  \n",
       "2         0  \n",
       "3         0  \n",
       "5         0  \n",
       "6         0  \n",
       "7         0  "
      ]
     },
     "execution_count": 62,
     "metadata": {},
     "output_type": "execute_result"
    }
   ],
   "source": [
    "data.head()"
   ]
  },
  {
   "cell_type": "code",
   "execution_count": 63,
   "metadata": {},
   "outputs": [
    {
     "data": {
      "text/plain": [
       "(3570, 18)"
      ]
     },
     "execution_count": 63,
     "metadata": {},
     "output_type": "execute_result"
    }
   ],
   "source": [
    "data.shape"
   ]
  },
  {
   "cell_type": "code",
   "execution_count": 64,
   "metadata": {},
   "outputs": [
    {
     "data": {
      "text/html": [
       "<div>\n",
       "<style scoped>\n",
       "    .dataframe tbody tr th:only-of-type {\n",
       "        vertical-align: middle;\n",
       "    }\n",
       "\n",
       "    .dataframe tbody tr th {\n",
       "        vertical-align: top;\n",
       "    }\n",
       "\n",
       "    .dataframe thead th {\n",
       "        text-align: right;\n",
       "    }\n",
       "</style>\n",
       "<table border=\"1\" class=\"dataframe\">\n",
       "  <thead>\n",
       "    <tr style=\"text-align: right;\">\n",
       "      <th></th>\n",
       "      <th>Общая</th>\n",
       "      <th>Жилая</th>\n",
       "      <th>Этаж</th>\n",
       "      <th>Высота потолков</th>\n",
       "      <th>Санузел</th>\n",
       "      <th>Балкон/лоджия</th>\n",
       "      <th>Цена</th>\n",
       "      <th>Кухня</th>\n",
       "      <th>Ворошиловский</th>\n",
       "      <th>Дзержинский</th>\n",
       "      <th>Кировский</th>\n",
       "      <th>Красноармейский</th>\n",
       "      <th>Краснооктябрьский</th>\n",
       "      <th>Советский</th>\n",
       "      <th>Тракторозаводский</th>\n",
       "      <th>Вторичка</th>\n",
       "      <th>Комната2</th>\n",
       "      <th>Комната3</th>\n",
       "    </tr>\n",
       "  </thead>\n",
       "  <tbody>\n",
       "    <tr>\n",
       "      <th>count</th>\n",
       "      <td>3570.000000</td>\n",
       "      <td>3570.000000</td>\n",
       "      <td>3570.000000</td>\n",
       "      <td>3570.000000</td>\n",
       "      <td>3570.000000</td>\n",
       "      <td>3570.000000</td>\n",
       "      <td>3.570000e+03</td>\n",
       "      <td>3570.000000</td>\n",
       "      <td>3570.000000</td>\n",
       "      <td>3570.000000</td>\n",
       "      <td>3570.000000</td>\n",
       "      <td>3570.000000</td>\n",
       "      <td>3570.000000</td>\n",
       "      <td>3570.000000</td>\n",
       "      <td>3570.000000</td>\n",
       "      <td>3570.000000</td>\n",
       "      <td>3570.000000</td>\n",
       "      <td>3570.000000</td>\n",
       "    </tr>\n",
       "    <tr>\n",
       "      <th>mean</th>\n",
       "      <td>52.544538</td>\n",
       "      <td>32.123249</td>\n",
       "      <td>4.276751</td>\n",
       "      <td>2.648843</td>\n",
       "      <td>0.498880</td>\n",
       "      <td>0.702521</td>\n",
       "      <td>2.625427e+06</td>\n",
       "      <td>7.934174</td>\n",
       "      <td>0.084314</td>\n",
       "      <td>0.167787</td>\n",
       "      <td>0.131933</td>\n",
       "      <td>0.134454</td>\n",
       "      <td>0.124650</td>\n",
       "      <td>0.129692</td>\n",
       "      <td>0.121849</td>\n",
       "      <td>0.976751</td>\n",
       "      <td>0.385434</td>\n",
       "      <td>0.383473</td>\n",
       "    </tr>\n",
       "    <tr>\n",
       "      <th>std</th>\n",
       "      <td>17.434916</td>\n",
       "      <td>11.902327</td>\n",
       "      <td>3.306453</td>\n",
       "      <td>0.148940</td>\n",
       "      <td>0.500069</td>\n",
       "      <td>0.457213</td>\n",
       "      <td>1.540891e+06</td>\n",
       "      <td>3.456390</td>\n",
       "      <td>0.277897</td>\n",
       "      <td>0.373729</td>\n",
       "      <td>0.338465</td>\n",
       "      <td>0.341187</td>\n",
       "      <td>0.330368</td>\n",
       "      <td>0.336011</td>\n",
       "      <td>0.327157</td>\n",
       "      <td>0.150715</td>\n",
       "      <td>0.486766</td>\n",
       "      <td>0.486300</td>\n",
       "    </tr>\n",
       "    <tr>\n",
       "      <th>min</th>\n",
       "      <td>19.000000</td>\n",
       "      <td>8.000000</td>\n",
       "      <td>1.000000</td>\n",
       "      <td>1.000000</td>\n",
       "      <td>0.000000</td>\n",
       "      <td>0.000000</td>\n",
       "      <td>6.000000e+05</td>\n",
       "      <td>3.000000</td>\n",
       "      <td>0.000000</td>\n",
       "      <td>0.000000</td>\n",
       "      <td>0.000000</td>\n",
       "      <td>0.000000</td>\n",
       "      <td>0.000000</td>\n",
       "      <td>0.000000</td>\n",
       "      <td>0.000000</td>\n",
       "      <td>0.000000</td>\n",
       "      <td>0.000000</td>\n",
       "      <td>0.000000</td>\n",
       "    </tr>\n",
       "    <tr>\n",
       "      <th>25%</th>\n",
       "      <td>41.000000</td>\n",
       "      <td>24.000000</td>\n",
       "      <td>2.000000</td>\n",
       "      <td>2.600000</td>\n",
       "      <td>0.000000</td>\n",
       "      <td>0.000000</td>\n",
       "      <td>1.770000e+06</td>\n",
       "      <td>6.000000</td>\n",
       "      <td>0.000000</td>\n",
       "      <td>0.000000</td>\n",
       "      <td>0.000000</td>\n",
       "      <td>0.000000</td>\n",
       "      <td>0.000000</td>\n",
       "      <td>0.000000</td>\n",
       "      <td>0.000000</td>\n",
       "      <td>1.000000</td>\n",
       "      <td>0.000000</td>\n",
       "      <td>0.000000</td>\n",
       "    </tr>\n",
       "    <tr>\n",
       "      <th>50%</th>\n",
       "      <td>51.000000</td>\n",
       "      <td>30.000000</td>\n",
       "      <td>4.000000</td>\n",
       "      <td>2.600000</td>\n",
       "      <td>0.000000</td>\n",
       "      <td>1.000000</td>\n",
       "      <td>2.350000e+06</td>\n",
       "      <td>7.000000</td>\n",
       "      <td>0.000000</td>\n",
       "      <td>0.000000</td>\n",
       "      <td>0.000000</td>\n",
       "      <td>0.000000</td>\n",
       "      <td>0.000000</td>\n",
       "      <td>0.000000</td>\n",
       "      <td>0.000000</td>\n",
       "      <td>1.000000</td>\n",
       "      <td>0.000000</td>\n",
       "      <td>0.000000</td>\n",
       "    </tr>\n",
       "    <tr>\n",
       "      <th>75%</th>\n",
       "      <td>62.000000</td>\n",
       "      <td>40.000000</td>\n",
       "      <td>5.000000</td>\n",
       "      <td>2.700000</td>\n",
       "      <td>1.000000</td>\n",
       "      <td>1.000000</td>\n",
       "      <td>3.100000e+06</td>\n",
       "      <td>9.000000</td>\n",
       "      <td>0.000000</td>\n",
       "      <td>0.000000</td>\n",
       "      <td>0.000000</td>\n",
       "      <td>0.000000</td>\n",
       "      <td>0.000000</td>\n",
       "      <td>0.000000</td>\n",
       "      <td>0.000000</td>\n",
       "      <td>1.000000</td>\n",
       "      <td>1.000000</td>\n",
       "      <td>1.000000</td>\n",
       "    </tr>\n",
       "    <tr>\n",
       "      <th>max</th>\n",
       "      <td>205.000000</td>\n",
       "      <td>177.000000</td>\n",
       "      <td>25.000000</td>\n",
       "      <td>4.000000</td>\n",
       "      <td>1.000000</td>\n",
       "      <td>1.000000</td>\n",
       "      <td>3.450000e+07</td>\n",
       "      <td>45.000000</td>\n",
       "      <td>1.000000</td>\n",
       "      <td>1.000000</td>\n",
       "      <td>1.000000</td>\n",
       "      <td>1.000000</td>\n",
       "      <td>1.000000</td>\n",
       "      <td>1.000000</td>\n",
       "      <td>1.000000</td>\n",
       "      <td>1.000000</td>\n",
       "      <td>1.000000</td>\n",
       "      <td>1.000000</td>\n",
       "    </tr>\n",
       "  </tbody>\n",
       "</table>\n",
       "</div>"
      ],
      "text/plain": [
       "             Общая        Жилая         Этаж  Высота потолков      Санузел  \\\n",
       "count  3570.000000  3570.000000  3570.000000      3570.000000  3570.000000   \n",
       "mean     52.544538    32.123249     4.276751         2.648843     0.498880   \n",
       "std      17.434916    11.902327     3.306453         0.148940     0.500069   \n",
       "min      19.000000     8.000000     1.000000         1.000000     0.000000   \n",
       "25%      41.000000    24.000000     2.000000         2.600000     0.000000   \n",
       "50%      51.000000    30.000000     4.000000         2.600000     0.000000   \n",
       "75%      62.000000    40.000000     5.000000         2.700000     1.000000   \n",
       "max     205.000000   177.000000    25.000000         4.000000     1.000000   \n",
       "\n",
       "       Балкон/лоджия          Цена        Кухня  Ворошиловский  Дзержинский  \\\n",
       "count    3570.000000  3.570000e+03  3570.000000    3570.000000  3570.000000   \n",
       "mean        0.702521  2.625427e+06     7.934174       0.084314     0.167787   \n",
       "std         0.457213  1.540891e+06     3.456390       0.277897     0.373729   \n",
       "min         0.000000  6.000000e+05     3.000000       0.000000     0.000000   \n",
       "25%         0.000000  1.770000e+06     6.000000       0.000000     0.000000   \n",
       "50%         1.000000  2.350000e+06     7.000000       0.000000     0.000000   \n",
       "75%         1.000000  3.100000e+06     9.000000       0.000000     0.000000   \n",
       "max         1.000000  3.450000e+07    45.000000       1.000000     1.000000   \n",
       "\n",
       "         Кировский  Красноармейский  Краснооктябрьский    Советский  \\\n",
       "count  3570.000000      3570.000000        3570.000000  3570.000000   \n",
       "mean      0.131933         0.134454           0.124650     0.129692   \n",
       "std       0.338465         0.341187           0.330368     0.336011   \n",
       "min       0.000000         0.000000           0.000000     0.000000   \n",
       "25%       0.000000         0.000000           0.000000     0.000000   \n",
       "50%       0.000000         0.000000           0.000000     0.000000   \n",
       "75%       0.000000         0.000000           0.000000     0.000000   \n",
       "max       1.000000         1.000000           1.000000     1.000000   \n",
       "\n",
       "       Тракторозаводский     Вторичка     Комната2     Комната3  \n",
       "count        3570.000000  3570.000000  3570.000000  3570.000000  \n",
       "mean            0.121849     0.976751     0.385434     0.383473  \n",
       "std             0.327157     0.150715     0.486766     0.486300  \n",
       "min             0.000000     0.000000     0.000000     0.000000  \n",
       "25%             0.000000     1.000000     0.000000     0.000000  \n",
       "50%             0.000000     1.000000     0.000000     0.000000  \n",
       "75%             0.000000     1.000000     1.000000     1.000000  \n",
       "max             1.000000     1.000000     1.000000     1.000000  "
      ]
     },
     "execution_count": 64,
     "metadata": {},
     "output_type": "execute_result"
    }
   ],
   "source": [
    "data.describe()"
   ]
  },
  {
   "cell_type": "code",
   "execution_count": 65,
   "metadata": {},
   "outputs": [],
   "source": [
    "# Сохраняем данные\n",
    "data.to_csv('DATA_FINAL.csv', encoding=\"utf-8\")"
   ]
  },
  {
   "cell_type": "code",
   "execution_count": null,
   "metadata": {},
   "outputs": [],
   "source": []
  }
 ],
 "metadata": {
  "kernelspec": {
   "display_name": "Python 3",
   "language": "python",
   "name": "python3"
  },
  "language_info": {
   "codemirror_mode": {
    "name": "ipython",
    "version": 3
   },
   "file_extension": ".py",
   "mimetype": "text/x-python",
   "name": "python",
   "nbconvert_exporter": "python",
   "pygments_lexer": "ipython3",
   "version": "3.7.4"
  }
 },
 "nbformat": 4,
 "nbformat_minor": 4
}
